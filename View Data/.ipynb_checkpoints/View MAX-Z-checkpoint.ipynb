{
 "cells": [
  {
   "cell_type": "code",
   "execution_count": 29,
   "id": "classical-lambda",
   "metadata": {},
   "outputs": [],
   "source": [
    "#import pandas as pd\n",
    "import numpy as np\n",
    "import matplotlib.pyplot as plt\n",
    "# Don't allows charts to appear in the notebook\n",
    "%matplotlib agg\n",
    "import pyart\n",
    "import numpy.ma as ma\n",
    "from matplotlib import colors as c\n",
    "from matplotlib.colors import ListedColormap,BoundaryNorm\n",
    "import cartopy.crs as ccrs\n",
    "import cartopy.feature as cfeat\n",
    "from cartopy.feature import ShapelyFeature\n",
    "import cartopy.io.shapereader as shpreader\n",
    "import glob\n",
    "import warnings\n",
    "warnings.filterwarnings('ignore')"
   ]
  },
  {
   "cell_type": "code",
   "execution_count": 30,
   "id": "controversial-clothing",
   "metadata": {},
   "outputs": [],
   "source": [
    "class UF:\n",
    "    def __init__(self,radar,shape_grid,lat_0, lon_0):\n",
    "        self.radar = radar\n",
    "        self.shape = shape_grid\n",
    "        self.lat_0 = lat_0\n",
    "        self.lon_0 = lon_0\n",
    "    def noise_rejection(self):\n",
    "        mask_noises_CC=ma.masked_less(self.radar.fields['cross_correlation_ratio']['data'],0.85)\n",
    "        mask_noises_Z=ma.masked_less(self.radar.fields['reflectivity']['data'],0)\n",
    "        rm_noises_Z_=np.ma.masked_array(self.radar.fields['reflectivity']['data'],mask_noises_CC.mask)\n",
    "        rm_noises_Z=np.ma.masked_array(rm_noises_Z_,mask_noises_Z.mask)\n",
    "        self.radar.add_field_like('reflectivity','Z_removed_noises',rm_noises_Z,replace_existing=True)\n",
    "    def convert_grid(self):\n",
    "        grid = pyart.map.grid_from_radars(\n",
    "            self.radar,\n",
    "            grid_shape=self.shape, #Number of points in the grid (z, y, x)\n",
    "            grid_limits=((0, 15000), (-300000, 300000), (-300000, 300000)), # min-max tuong duong z,y,x\n",
    "            grid_origin = (self.lat_0, self.lon_0),\n",
    "            fields=['Z_removed_noises'],\n",
    "            roi_func='dist_beam',\n",
    "            weighting_function='cressman')\n",
    "        return grid\n",
    "    def convert_lat_lon(self, grid):\n",
    "        #conver distance to lat/lon\n",
    "        for i in range(self.shape[1]):\n",
    "            geog = pyart.core.cartesian_to_geographic_aeqd(grid.x[\"data\"][i],grid.y[\"data\"][i],self.lon_0, self.lat_0, R=6370997.0)\n",
    "            grid.x[\"data\"][i] = geog[0]\n",
    "            grid.y[\"data\"][i] = geog[1]\n",
    "        return grid\n",
    "    def plot_MAX_product(self,lons,lats,Zh_max,linkOUT):\n",
    "        #plot map with datas\n",
    "        fig=plt.figure(figsize=(10,7),dpi=80)\n",
    "        ax1=fig.add_subplot(1,1,1, projection=ccrs.PlateCarree())\n",
    "        ax1.add_feature(cfeat.OCEAN.with_scale('10m'))\n",
    "        ax1.add_feature(cfeat.BORDERS.with_scale('10m'),lw=0.5)\n",
    "        ax1.add_feature(states_geom, facecolor=\"none\", edgecolor=\"k\",lw=0.5)\n",
    "        ax1.set_extent((grid.x['data'][0],grid.x['data'][-1],grid.y['data'][0],grid.y['data'][-1]),crs=ccrs.PlateCarree())\n",
    "        z1_plot=ax1.pcolormesh(lons,lats,Zh_max,cmap=cmap,norm=norm)\n",
    "        ax1.scatter(x=103.51694002747536,y=21.571390070021152,color=\"black\",s=10, alpha=1,marker='P')\n",
    "        ax1.set(title=\"MAX(Z) Product \"+\"\\n\"+ radar.time['units'][25:30]+\" UTC \"+radar.time['units'][14:24])\n",
    "        ax1.title.set_size(20)\n",
    "        plt.colorbar(z1_plot,ax=ax1,ticks=ticks,extend='both',label=\"dBZ\")    \n",
    "        linkPIC=linkOUT+radar.time['units'][14:-10]+radar.time['units'][-10:-7]+'-'+radar.time['units'][-6:-4]\n",
    "        plt.savefig(linkPIC)"
   ]
  },
  {
   "cell_type": "code",
   "execution_count": 31,
   "id": "416daf8d",
   "metadata": {},
   "outputs": [],
   "source": [
    "#Make Vietnam Map\n",
    "shpfilename = shpreader.natural_earth(resolution='10m', category='cultural', name='admin_1_states_provinces')\n",
    "reader = shpreader.Reader(shpfilename)\n",
    "vietnam = [country for country in reader.records() if country.attributes[\"admin\"] == \"Vietnam\"]\n",
    "states_geom = ShapelyFeature([country.geometry for country in  vietnam ], ccrs.PlateCarree())\n",
    "#Make color bar\n",
    "cmap=ListedColormap(['deepskyblue', 'dodgerblue','blue', 'palegreen','lime','limegreen','yellow','orange','darkorange','red','mediumvioletred','darkviolet','black'])\n",
    "bounds=[0,10,15,20,25,30,35,40,45,55,60,65,70,80]\n",
    "norm = BoundaryNorm(bounds, cmap.N)\n",
    "ticks  = [10,15,20,25,30,35,40,45,55,60,65,70]\n",
    "#link for input/ouput files\n",
    "link_INT = sorted(glob.glob('C:/Users/Admin/OneDrive/Desktop/View Data/Input_RAW/*'))[-2]\n",
    "linkOUT=\"C:/Users/Admin/OneDrive/Desktop/View Data/Output_MAX/\""
   ]
  },
  {
   "cell_type": "code",
   "execution_count": 32,
   "id": "private-arbitration",
   "metadata": {},
   "outputs": [
    {
     "name": "stdout",
     "output_type": "stream",
     "text": [
      "C:/Users/Admin/OneDrive/Desktop/View Data/Input_RAW\\PHA230612083004.RAWBY38\n"
     ]
    }
   ],
   "source": [
    "radar = pyart.io.read_sigmet(link_INT)\n",
    "lat_0 = radar.latitude['data'][0]\n",
    "lon_0 = radar.longitude['data'][0]\n",
    "shape_grid = (16, 601,601) # grid with z = 10 level (1km), h-v=600 point (1km)\n",
    "UF_File = UF(radar, shape_grid, lat_0, lon_0)\n",
    "ref_cor_noise=UF_File.noise_rejection()\n",
    "grid = UF_File.convert_grid()\n",
    "grid_lat_lon = UF_File.convert_lat_lon(grid)\n",
    "lon=grid_lat_lon.x['data']\n",
    "lat=grid_lat_lon.y['data']\n",
    "lons,lats=np.meshgrid(lon,lat)\n",
    "Zh_max=grid.fields['Z_removed_noises']['data']\n",
    "Zh_max=ma.masked_less_equal(np.amax(Zh_max,axis=0),0.)\n",
    "UF_File.plot_MAX_product(lons,lats,Zh_max,linkOUT)\n",
    "print(link_INT)"
   ]
  },
  {
   "cell_type": "code",
   "execution_count": 33,
   "id": "bd4818e2",
   "metadata": {},
   "outputs": [],
   "source": [
    "import UF"
   ]
  },
  {
   "cell_type": "code",
   "execution_count": 35,
   "id": "463cf44b",
   "metadata": {},
   "outputs": [
    {
     "ename": "AttributeError",
     "evalue": "module 'UF' has no attribute 'radar'",
     "output_type": "error",
     "traceback": [
      "\u001b[1;31m---------------------------------------------------------------------------\u001b[0m",
      "\u001b[1;31mAttributeError\u001b[0m                            Traceback (most recent call last)",
      "Input \u001b[1;32mIn [35]\u001b[0m, in \u001b[0;36m<cell line: 1>\u001b[1;34m()\u001b[0m\n\u001b[1;32m----> 1\u001b[0m \u001b[43mUF\u001b[49m\u001b[38;5;241;43m.\u001b[39;49m\u001b[43mradar\u001b[49m\n",
      "\u001b[1;31mAttributeError\u001b[0m: module 'UF' has no attribute 'radar'"
     ]
    }
   ],
   "source": [
    "UF.radar"
   ]
  },
  {
   "cell_type": "code",
   "execution_count": null,
   "id": "9ee1a519",
   "metadata": {},
   "outputs": [],
   "source": []
  }
 ],
 "metadata": {
  "kernelspec": {
   "display_name": "Python 3 (ipykernel)",
   "language": "python",
   "name": "python3"
  },
  "language_info": {
   "codemirror_mode": {
    "name": "ipython",
    "version": 3
   },
   "file_extension": ".py",
   "mimetype": "text/x-python",
   "name": "python",
   "nbconvert_exporter": "python",
   "pygments_lexer": "ipython3",
   "version": "3.8.16"
  }
 },
 "nbformat": 4,
 "nbformat_minor": 5
}
