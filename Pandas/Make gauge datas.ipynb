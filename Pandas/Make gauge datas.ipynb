{
 "cells": [
  {
   "cell_type": "code",
   "execution_count": 1,
   "id": "absolute-geneva",
   "metadata": {},
   "outputs": [],
   "source": [
    "import pandas as pd\n",
    "import os\n",
    "import numpy as np\n",
    "import glob\n",
    "from netCDF4 import Dataset,date2num,num2date\n",
    "import numpy as np\n",
    "import pandas as pd\n",
    "import warnings\n",
    "warnings.filterwarnings('ignore')\n",
    "import xlsxwriter"
   ]
  },
  {
   "cell_type": "code",
   "execution_count": 2,
   "id": "departmental-agency",
   "metadata": {},
   "outputs": [],
   "source": [
    "ignorCty=['Nậm Păm']\n",
    "ignorTB=['Mường Khoa','Sốp Cộp','Mường Trai','Cao Phong','Tu Lý','Mường Chiềng','Yên Thủy','Ban Hàng Đồi','Bao La','Tân Lạc']\n",
    "ignorVB=['Phú Bình','Xuân Giang 1','Vĩnh Tường','Lăng Can 1','Đình Cả','Đại Từ', 'Đạo Viện 1','Thanh Thủy','Tam Dương',\n",
    "         'Phúc Yên','Phấn Mễ','Quản Bạ','Việt Lâm','Ký Phú', 'Phố Đu', 'Yên Bình','Kim Quan', 'Điềm Mặc 1','Nậm Ty','Phủ Thông',\n",
    "         'Mèo Vạc','Vũ Chấn','Bình Xuyên','Phương Viên','La Hiên', 'Minh Quang', 'Yên Lạc','Phổ Yên','Sơn Nam', \n",
    "         'Linh Hồ','Vĩ Thượng','Yên Minh 1','Kỳ Lâm','Việt Vinh','Xuân Hoà', 'Yên Lập','Trạm Tấu','Thọ Sơn (Đoan Hùng)',\n",
    "         'Thạch Kiệt 1','Lâm Thao','Kiên Lao','Thanh Ba','Ba Khe','Cẩm Khê','Hạ Hoà','Thanh Thủy (La Phù)','Mỹ Lương']\n",
    "name_stations_Cty={'Trạm Đo':pd.Series(['Chiềng Ơn','Nậm Păm','Nậm Giôn','Chiềng Khay','Nậm Hàng 2','Nậm Sỏ','Nậm Hàng 1',\n",
    "                                        'Mường Mùn','Mường Mít','Ta Ma', 'Phình Sáng', 'Thị Trấn Tân Uyên','Khun Há', \n",
    "                                        'Bản Lang','Nậm Hăn 2','Nậm Ét','Sín Chải','Nậm Ban','Mường Toong','Mù Cả'])}\n",
    "ra={'Ranges':[19.16,31.40,35.36,77.11,58.14,91.24,23.42,61.53,17.72,24.64,71.79,78.41,114.99,54.56,23.07,59.96,\n",
    "                      101.22,118.42,149.36,22.09,105.70,120.21,61.58,165.02,92.60,115.12,128.15,151.47,95.39,111.60,173.22,31.77,117.85,15.22,81.76,\n",
    "                     130.77,137.89,71.50,84.79,109.30,146.26,172.84,156.25,109.23,139.88,124.58,132.75,106.05,126.36,107.87,94.85,147.45,70.73,189.38,\n",
    "                     114.62,131.83,112.25,122.11,83.91,93.70,114.29,121.50]}"
   ]
  },
  {
   "cell_type": "code",
   "execution_count": 7,
   "id": "coordinate-singing",
   "metadata": {},
   "outputs": [],
   "source": [
    "#Gộp các files gauge/loại bỏ một số trạm/tạo file có lượng mưa của các trường hợp\n",
    "Cases=['Squall line']#,'Full stratiform','Squall line']\n",
    "for case in Cases:\n",
    "    a=len(next(os.walk('D:/gauge datas 2022/'+case+'/'))[1]) # a là số events có trong folder\n",
    "    zz=[]\n",
    "    sheets=[]\n",
    "    for r in range(1,a+1,1):\n",
    "        for file in os.listdir('D:/gauge datas 2022/'+case+'/'+str(r)+'/'):\n",
    "            if file[19:20]=='C':\n",
    "                df_Cty=pd.read_excel('D:/gauge datas 2022/'+case+'/'+str(r)+'/'+file,skiprows=(0,1,2))\n",
    "                df_Cty['Trạm Đo']=name_stations_Cty['Trạm Đo']\n",
    "                df_Cty=df_Cty[~df_Cty['Trạm Đo'].isin(ignorCty)]\n",
    "                del df_Cty['Tổng']\n",
    "            if file[36:37]=='T':\n",
    "                df_TB=pd.read_excel('D:/gauge datas 2022/'+case+'/'+str(r)+'/'+file,skiprows=(0,1,2))\n",
    "                df_TB=df_TB[~df_TB['Trạm Đo'].isin(ignorTB)]\n",
    "                del df_TB['Tổng']\n",
    "            if file[36:37]=='V':\n",
    "                df_VB=pd.read_excel('D:/gauge datas 2022/'+case+'/'+str(r)+'/'+file,skiprows=(0,1,2))\n",
    "                df_VB=df_VB[~df_VB['Trạm Đo'].isin(ignorVB)]\n",
    "                del df_VB['Tổng']\n",
    "        df_Cty_TB=df_Cty.append([df_TB],ignore_index = True )\n",
    "        df=df_Cty_TB.append([df_VB],ignore_index = True )\n",
    "        df.insert(0,'Ranges',ra['Ranges'])\n",
    "        df=df.sort_values(\"Ranges\",ignore_index=True)\n",
    "        df=df.drop(df.columns[[-1]], axis=1)\n",
    "        df=df.drop([56,57,58,59,60,61]) # ignor gauges with R>150km\n",
    "        zz.append(df)\n",
    "        sheets.append(str(r)) \n",
    "    out_path = r\"D:/data/Gauges/Finall/\"+case+\".xlsx\"\n",
    "    writer = pd.ExcelWriter(out_path,engine='xlsxwriter')   \n",
    "    for dataframe, sheet in zip(zz, sheets):\n",
    "        dataframe.to_excel(writer, sheet_name=sheet, startrow=0 , startcol=0)   \n",
    "    writer.save()"
   ]
  },
  {
   "cell_type": "code",
   "execution_count": 5,
   "id": "exterior-presentation",
   "metadata": {},
   "outputs": [
    {
     "name": "stdout",
     "output_type": "stream",
     "text": [
      "0\n"
     ]
    }
   ],
   "source": [
    "Cases=['Squall line']#,'Full stratiform','Squall line']\n",
    "for case in Cases:\n",
    "    a=len(next(os.walk('D:/gauge datas 2022/'+case+'/'))[1])\n",
    "    print(a)\n",
    "    zz=[]\n",
    "    sheets=[]\n",
    "    for r in range(1,a+1,1):\n",
    "        for file in os.listdir('D:/gauge datas 2022/'+case+'/'+str(r)+'/'):\n",
    "            print(file)"
   ]
  },
  {
   "cell_type": "code",
   "execution_count": null,
   "id": "divine-component",
   "metadata": {},
   "outputs": [],
   "source": []
  }
 ],
 "metadata": {
  "kernelspec": {
   "display_name": "Python 3",
   "language": "python",
   "name": "python3"
  },
  "language_info": {
   "codemirror_mode": {
    "name": "ipython",
    "version": 3
   },
   "file_extension": ".py",
   "mimetype": "text/x-python",
   "name": "python",
   "nbconvert_exporter": "python",
   "pygments_lexer": "ipython3",
   "version": "3.7.9"
  }
 },
 "nbformat": 4,
 "nbformat_minor": 5
}
