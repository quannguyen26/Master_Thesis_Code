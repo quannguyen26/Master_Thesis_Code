{
 "cells": [
  {
   "cell_type": "code",
   "execution_count": 26,
   "id": "arabic-location",
   "metadata": {},
   "outputs": [],
   "source": [
    "import pandas as pd\n",
    "import os\n",
    "import numpy as np\n",
    "import glob\n",
    "from netCDF4 import Dataset,date2num,num2date\n",
    "import numpy as np\n",
    "import pandas as pd\n",
    "import warnings\n",
    "warnings.filterwarnings('ignore')"
   ]
  },
  {
   "cell_type": "code",
   "execution_count": 27,
   "id": "waiting-daily",
   "metadata": {},
   "outputs": [],
   "source": [
    "event=\"E11/\""
   ]
  },
  {
   "cell_type": "markdown",
   "id": "current-sender",
   "metadata": {},
   "source": [
    "# Make file gauges"
   ]
  },
  {
   "cell_type": "code",
   "execution_count": 28,
   "id": "catholic-sensitivity",
   "metadata": {},
   "outputs": [],
   "source": [
    "linkFileVrain=\"D:/Event_2021/\"+event+\"Vrain/\"\n",
    "linkFileTB_TD=\"D:/Event_2021/\"+event\n",
    "dfappend_S=[]\n",
    "dfappend_Đ=[]\n",
    "dfappend_L=[]\n",
    "for name in os.listdir(linkFileVrain):\n",
    "    if name[19:20]=='Đ':\n",
    "        filein = linkFileVrain + name\n",
    "        df_read=pd.read_excel(pd.ExcelFile(filein),skiprows=(0,1,2,7))\n",
    "        del df_read['Tổng'],df_read['Trạm Đo']\n",
    "        dfappend_Đ.append(df_read)\n",
    "    if name[19:20]=='L':\n",
    "        filein = linkFileVrain + name\n",
    "        df_read=pd.read_excel(pd.ExcelFile(filein),skiprows=(0,1,2,6,7,8,9,10,11,12,13))\n",
    "        del df_read['Tổng'],df_read['Trạm Đo']\n",
    "        dfappend_L.append(df_read)\n",
    "    if name[19:20]=='S':\n",
    "        filein = linkFileVrain + name\n",
    "        df_read=pd.read_excel(pd.ExcelFile(filein),skiprows=(0,1,2,4,5,6,8,10,11,12,13,14,15,16,17,18,19,20,23,24,25,26,27,28))\n",
    "        del df_read['Tổng'],df_read['Trạm Đo']\n",
    "        dfappend_S.append(df_read)\n",
    "df_S=pd.concat(dfappend_S,axis=1,join=\"inner\")\n",
    "df_L=pd.concat(dfappend_L,axis=1,join=\"inner\")\n",
    "df_Đ=pd.concat(dfappend_Đ,axis=1,join=\"inner\")\n",
    "df_vrain=df_S.append([df_L,df_Đ],ignore_index = True )\n",
    "name_station={'Trạm Đo':pd.Series(['Chiềng Bôm','Mường Sại','Chiềng Pha','Mường Bám 1','Bum Tở','Hua Bum','Hua Thanh','Nà Tấu','Pa Thơm','Háng Lìa','Si Pha Phìn','Huổi Lèng','Nà Hỳ','Sín Thầu','Mường Báng'],index=np.arange(15))}\n",
    "df_vrain.insert(0,'Trạm Đo',name_station['Trạm Đo'])\n",
    "ignorCty=['Bản Lang (Phong Thổ, Lai Châu)','Mường Mít (Than Uyên, Lai Châu)','Thị trấn Tân Uyên (Tân Uyên, Lai Châu)','Chiềng Khay (Quỳnh Nhai, Sơn La)','Nậm Giôn (Mường La, Sơn La)','Khun Há (Tam Đường, Lai Châu)','Nậm Sỏ (Tân Uyên, Lai Châu)','Nậm Ét (Quỳnh Nhai, Sơn La)','Nậm Păm (Nậm Păm, Mường La)']\n",
    "ignorTB=['Cao Phong','Tu Lý','Mường Chiềng','Yên Thủy','Ban Hàng Đồi','Bao La','Tân Lạc','Km46','Mường Sại','Tú Nang','Km22','Chiềng On','Chiềng Mai','Sốp Cộp','Tây Trang','Pa Tần','Bình Lư 1','Vàng Bó','Pa Nậm Cúm','Mường Trai','Mường Bang 1']\n",
    "for file in glob.glob(\"D:/Event_2021/\"+event+\"*.xlsx\"):\n",
    "    if file[37:38]=='C':\n",
    "        df_Cty=pd.read_excel(file,skiprows=(0,1,2))\n",
    "        del df_Cty['Tổng']\n",
    "        df_Cty=df_Cty[~df_Cty['Trạm Đo'].isin(ignorCty)]\n",
    "    if file[37:38]=='Đ':\n",
    "        df_TB=pd.read_excel(file,skiprows=(0,1,2,5,10,13,14,17,29,32))\n",
    "        del df_TB['Tổng']\n",
    "        df_TB=df_TB[~df_TB['Trạm Đo'].isin(ignorTB)]\n",
    "df_CT_TB=df_Cty.append([df_TB],ignore_index = True )\n",
    "df=df_CT_TB.append([df_vrain],ignore_index = True )\n",
    "ranges={'Ranges':[91.24,54.56,59.96,23.42,24.64,101.22,118.42,17.72,149.36,77.11,19.16,81.76,130.77,31.77,151.47,\n",
    "                  128.15,95.39,117.85,22.09,19.65,17.46,14.71,22.98,125.24,108.67,53.23,41.17,68.78,45.71,64.70,53.59,83.44,\n",
    "                  159.42,36.29]}\n",
    "df.insert(0,'Ranges',ranges['Ranges'])\n",
    "dfs=df.sort_values(\"Ranges\",ignore_index=True)\n",
    "dfs=dfs.dropna(axis='columns')"
   ]
  },
  {
   "cell_type": "markdown",
   "id": "gorgeous-jerusalem",
   "metadata": {},
   "source": [
    "# Make file Radars"
   ]
  },
  {
   "cell_type": "code",
   "execution_count": 29,
   "id": "digital-earthquake",
   "metadata": {},
   "outputs": [
    {
     "name": "stdout",
     "output_type": "stream",
     "text": [
      "D:/Event_2021/E11\\PHA2105240900.nc\n"
     ]
    }
   ],
   "source": [
    "for file in glob.glob(\"D:/Event_2021/\"+event+\"/*.nc\"):\n",
    "    print(file)\n",
    "# Reading in the netCDF file\n",
    "data=Dataset(file,'r')\n",
    "# Reading in station gauges information file\n",
    "stations=pd.read_excel(pd.ExcelFile(\"C:/Users/Admin/Desktop/test_py_ART/stationLATLON.xlsx\"))\n",
    "# Making dates index\n",
    "dates=num2date(data.variables['time'][:],units=data.variables['time'].units,calendar=data.variables['time'].calendar)\n",
    "starting_date=str(dates[0])\n",
    "ending_date=str(dates[-1])\n",
    "date_range=pd.date_range(start=starting_date,end=ending_date,freq='H')\n",
    "# Making a Dataframe\n",
    "df=pd.DataFrame(0,columns=date_range,index=stations['Tên Trạm'])\n",
    "#Extracting data from a netCDF file to dataframe\n",
    "for index,row in stations.iterrows():\n",
    "    locations=row['Tên Trạm']\n",
    "    location_lat=row['Latitude']\n",
    "    location_lon=row['Longitude']\n",
    "    lat=data.variables['latitude'][:]\n",
    "    lon=data.variables['longitude'][:]\n",
    "    sq_diff_lat=(lat-location_lat)**2\n",
    "    sq_diff_lon=(lon-location_lon)**2\n",
    "    min_index_lat=sq_diff_lat.argmin()\n",
    "    min_index_lon=sq_diff_lon.argmin()\n",
    "    pre=data.variables['precipitation']\n",
    "    for t_index in np.arange(0,len(date_range)):\n",
    "        # calculation average in a cycle r=1km arround a location (gauge)\n",
    "        #cycle=[pre[t_index,min_index_lat,min_index_lon],pre[t_index,min_index_lat+1,min_index_lon],pre[t_index,min_index_lat-1,min_index_lon],pre[t_index,min_index_lat,min_index_lon+1],pre[t_index,min_index_lat,min_index_lon-1]]\n",
    "        df.loc[[locations],date_range[t_index]]=pre[t_index,min_index_lat,min_index_lon]#np.nanmean(cycle)\n",
    "# Change NaN values by 0\n",
    "dfr=df.fillna(0)\n",
    "# Change label of columns in radar by label of gauges columns\n",
    "dfr.columns=dfs.columns[2:]\n",
    "# Round values\n",
    "dfr=dfr.round(1)\n",
    "# Change label of cells\n",
    "dfr.reset_index(inplace=True)\n",
    "# Insert \"Range\" column to DataFrame\n",
    "dfr.insert(0,'Ranges',dfs['Ranges'])\n",
    "# Change name of Stations in Gauges DataFrame\n",
    "dfs['Trạm Đo']=dfr['Tên Trạm']\n",
    "# Calculating sum of precipitation values \n",
    "dfs['Total']=np.sum(dfs.iloc[:,2:],axis=1)\n",
    "dfr['Total']=np.sum(dfr.iloc[:,2:],axis=1)"
   ]
  },
  {
   "cell_type": "code",
   "execution_count": 30,
   "id": "endless-remedy",
   "metadata": {},
   "outputs": [],
   "source": [
    "# Write to a file\n",
    "writer = pd.ExcelWriter(\"D:/Event_2021/\"+event+\"/Result/Gauges_Radar_\"+event[0:-1]+\"_2021.xlsx\")\n",
    "dfs.to_excel(writer,sheet_name='Gauges')\n",
    "dfr.to_excel(writer,sheet_name='Radars')\n",
    "writer.save()"
   ]
  },
  {
   "cell_type": "code",
   "execution_count": null,
   "id": "leading-tobacco",
   "metadata": {},
   "outputs": [],
   "source": []
  },
  {
   "cell_type": "code",
   "execution_count": null,
   "id": "analyzed-pastor",
   "metadata": {},
   "outputs": [],
   "source": []
  }
 ],
 "metadata": {
  "kernelspec": {
   "display_name": "Python 3",
   "language": "python",
   "name": "python3"
  },
  "language_info": {
   "codemirror_mode": {
    "name": "ipython",
    "version": 3
   },
   "file_extension": ".py",
   "mimetype": "text/x-python",
   "name": "python",
   "nbconvert_exporter": "python",
   "pygments_lexer": "ipython3",
   "version": "3.7.9"
  }
 },
 "nbformat": 4,
 "nbformat_minor": 5
}
