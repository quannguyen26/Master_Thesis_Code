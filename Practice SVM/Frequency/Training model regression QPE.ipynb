{
 "cells": [
  {
   "cell_type": "code",
   "execution_count": 93,
   "id": "imperial-tuesday",
   "metadata": {},
   "outputs": [],
   "source": [
    "# Packages for analysis\n",
    "import pandas as pd\n",
    "import numpy as np\n",
    "from sklearn.svm import SVC\n",
    "from sklearn.model_selection import train_test_split\n",
    "\n",
    "# Packages for visuals\n",
    "import matplotlib.pyplot as plt\n",
    "import seaborn as sns; sns.set(font_scale=1.2)\n",
    "\n",
    "# Allows charts to appear in the notebook\n",
    "%matplotlib inline\n",
    "\n",
    "import numpy.ma as ma\n",
    "import matplotlib.ticker as mticker\n",
    "from matplotlib import colors as c\n",
    "from matplotlib.colors import ListedColormap,BoundaryNorm\n",
    "import cartopy.crs as ccrs\n",
    "import cartopy.feature as cfeat\n",
    "from cartopy.mpl.gridliner import LONGITUDE_FORMATTER, LATITUDE_FORMATTER\n",
    "import cartopy.geodesic as cargeo\n",
    "from shapely.geometry import Polygon\n",
    "import os\n",
    "import warnings\n",
    "warnings.filterwarnings('ignore')"
   ]
  },
  {
   "cell_type": "code",
   "execution_count": 96,
   "id": "annoying-temple",
   "metadata": {},
   "outputs": [],
   "source": [
    "df_embedded = pd.read_excel(\"D:/gauge datas 2021/QPE_gauges/test_ln.xlsx\",sheet_name=\"Stratiform3\")"
   ]
  },
  {
   "cell_type": "code",
   "execution_count": 97,
   "id": "adjusted-rider",
   "metadata": {},
   "outputs": [
    {
     "data": {
      "text/html": [
       "<div>\n",
       "<style scoped>\n",
       "    .dataframe tbody tr th:only-of-type {\n",
       "        vertical-align: middle;\n",
       "    }\n",
       "\n",
       "    .dataframe tbody tr th {\n",
       "        vertical-align: top;\n",
       "    }\n",
       "\n",
       "    .dataframe thead th {\n",
       "        text-align: right;\n",
       "    }\n",
       "</style>\n",
       "<table border=\"1\" class=\"dataframe\">\n",
       "  <thead>\n",
       "    <tr style=\"text-align: right;\">\n",
       "      <th></th>\n",
       "      <th>Stations</th>\n",
       "      <th>times</th>\n",
       "      <th>SC_SVM</th>\n",
       "      <th>R_10p</th>\n",
       "      <th>Z_1500m</th>\n",
       "      <th>ZDR_1500m</th>\n",
       "      <th>KDP_1500m</th>\n",
       "      <th>ln_R_10p</th>\n",
       "      <th>ln_Z_1500m</th>\n",
       "      <th>ln_ZDR_1500m</th>\n",
       "      <th>ln_KDP_1500m</th>\n",
       "    </tr>\n",
       "  </thead>\n",
       "  <tbody>\n",
       "    <tr>\n",
       "      <th>0</th>\n",
       "      <td>Sín Chải</td>\n",
       "      <td>16:10 05/04</td>\n",
       "      <td>1</td>\n",
       "      <td>3.6</td>\n",
       "      <td>30.73</td>\n",
       "      <td>1.58</td>\n",
       "      <td>0.12</td>\n",
       "      <td>1.280934</td>\n",
       "      <td>3.425239</td>\n",
       "      <td>0.457425</td>\n",
       "      <td>-2.120264</td>\n",
       "    </tr>\n",
       "    <tr>\n",
       "      <th>1</th>\n",
       "      <td>Tây Trang</td>\n",
       "      <td>16:10 05/04</td>\n",
       "      <td>1</td>\n",
       "      <td>1.2</td>\n",
       "      <td>10.95</td>\n",
       "      <td>0.60</td>\n",
       "      <td>0.02</td>\n",
       "      <td>0.182322</td>\n",
       "      <td>2.393339</td>\n",
       "      <td>-0.510826</td>\n",
       "      <td>-3.912023</td>\n",
       "    </tr>\n",
       "    <tr>\n",
       "      <th>2</th>\n",
       "      <td>Mường Chà</td>\n",
       "      <td>16:10 05/04</td>\n",
       "      <td>1</td>\n",
       "      <td>2.4</td>\n",
       "      <td>24.57</td>\n",
       "      <td>1.74</td>\n",
       "      <td>0.05</td>\n",
       "      <td>0.875469</td>\n",
       "      <td>3.201526</td>\n",
       "      <td>0.553885</td>\n",
       "      <td>-2.995732</td>\n",
       "    </tr>\n",
       "    <tr>\n",
       "      <th>3</th>\n",
       "      <td>Bình Lư 1</td>\n",
       "      <td>16:10 05/04</td>\n",
       "      <td>1</td>\n",
       "      <td>1.2</td>\n",
       "      <td>20.13</td>\n",
       "      <td>1.27</td>\n",
       "      <td>0.03</td>\n",
       "      <td>0.182322</td>\n",
       "      <td>3.002211</td>\n",
       "      <td>0.239017</td>\n",
       "      <td>-3.506558</td>\n",
       "    </tr>\n",
       "    <tr>\n",
       "      <th>4</th>\n",
       "      <td>Nậm Hàng 1</td>\n",
       "      <td>16:10 05/04</td>\n",
       "      <td>1</td>\n",
       "      <td>1.2</td>\n",
       "      <td>24.66</td>\n",
       "      <td>1.20</td>\n",
       "      <td>0.03</td>\n",
       "      <td>0.182322</td>\n",
       "      <td>3.205182</td>\n",
       "      <td>0.182322</td>\n",
       "      <td>-3.506558</td>\n",
       "    </tr>\n",
       "    <tr>\n",
       "      <th>...</th>\n",
       "      <td>...</td>\n",
       "      <td>...</td>\n",
       "      <td>...</td>\n",
       "      <td>...</td>\n",
       "      <td>...</td>\n",
       "      <td>...</td>\n",
       "      <td>...</td>\n",
       "      <td>...</td>\n",
       "      <td>...</td>\n",
       "      <td>...</td>\n",
       "      <td>...</td>\n",
       "    </tr>\n",
       "    <tr>\n",
       "      <th>3306</th>\n",
       "      <td>Nậm Hăn 2</td>\n",
       "      <td>22:00 25/12</td>\n",
       "      <td>1</td>\n",
       "      <td>2.4</td>\n",
       "      <td>4.26</td>\n",
       "      <td>0.86</td>\n",
       "      <td>0.01</td>\n",
       "      <td>0.875469</td>\n",
       "      <td>1.449269</td>\n",
       "      <td>-0.150823</td>\n",
       "      <td>-4.605170</td>\n",
       "    </tr>\n",
       "    <tr>\n",
       "      <th>3307</th>\n",
       "      <td>Nậm Sỏ</td>\n",
       "      <td>22:00 25/12</td>\n",
       "      <td>1</td>\n",
       "      <td>1.2</td>\n",
       "      <td>17.24</td>\n",
       "      <td>0.97</td>\n",
       "      <td>0.04</td>\n",
       "      <td>0.182322</td>\n",
       "      <td>2.847232</td>\n",
       "      <td>-0.030459</td>\n",
       "      <td>-3.218876</td>\n",
       "    </tr>\n",
       "    <tr>\n",
       "      <th>3308</th>\n",
       "      <td>Thị Trấn Tân Uyên</td>\n",
       "      <td>22:00 25/12</td>\n",
       "      <td>1</td>\n",
       "      <td>1.2</td>\n",
       "      <td>14.30</td>\n",
       "      <td>0.78</td>\n",
       "      <td>0.09</td>\n",
       "      <td>0.182322</td>\n",
       "      <td>2.660260</td>\n",
       "      <td>-0.248461</td>\n",
       "      <td>-2.407946</td>\n",
       "    </tr>\n",
       "    <tr>\n",
       "      <th>3309</th>\n",
       "      <td>Khun Há</td>\n",
       "      <td>22:00 25/12</td>\n",
       "      <td>1</td>\n",
       "      <td>1.2</td>\n",
       "      <td>6.57</td>\n",
       "      <td>0.61</td>\n",
       "      <td>0.01</td>\n",
       "      <td>0.182322</td>\n",
       "      <td>1.882514</td>\n",
       "      <td>-0.494296</td>\n",
       "      <td>-4.605170</td>\n",
       "    </tr>\n",
       "    <tr>\n",
       "      <th>3310</th>\n",
       "      <td>Bình Lư 1</td>\n",
       "      <td>22:00 25/12</td>\n",
       "      <td>1</td>\n",
       "      <td>1.2</td>\n",
       "      <td>3.79</td>\n",
       "      <td>0.58</td>\n",
       "      <td>0.03</td>\n",
       "      <td>0.182322</td>\n",
       "      <td>1.332366</td>\n",
       "      <td>-0.544727</td>\n",
       "      <td>-3.506558</td>\n",
       "    </tr>\n",
       "  </tbody>\n",
       "</table>\n",
       "<p>3311 rows × 11 columns</p>\n",
       "</div>"
      ],
      "text/plain": [
       "               Stations        times  SC_SVM  R_10p  Z_1500m  ZDR_1500m  \\\n",
       "0              Sín Chải  16:10 05/04       1    3.6    30.73       1.58   \n",
       "1             Tây Trang  16:10 05/04       1    1.2    10.95       0.60   \n",
       "2             Mường Chà  16:10 05/04       1    2.4    24.57       1.74   \n",
       "3             Bình Lư 1  16:10 05/04       1    1.2    20.13       1.27   \n",
       "4            Nậm Hàng 1  16:10 05/04       1    1.2    24.66       1.20   \n",
       "...                 ...          ...     ...    ...      ...        ...   \n",
       "3306          Nậm Hăn 2  22:00 25/12       1    2.4     4.26       0.86   \n",
       "3307             Nậm Sỏ  22:00 25/12       1    1.2    17.24       0.97   \n",
       "3308  Thị Trấn Tân Uyên  22:00 25/12       1    1.2    14.30       0.78   \n",
       "3309            Khun Há  22:00 25/12       1    1.2     6.57       0.61   \n",
       "3310          Bình Lư 1  22:00 25/12       1    1.2     3.79       0.58   \n",
       "\n",
       "      KDP_1500m  ln_R_10p  ln_Z_1500m  ln_ZDR_1500m  ln_KDP_1500m  \n",
       "0          0.12  1.280934    3.425239      0.457425     -2.120264  \n",
       "1          0.02  0.182322    2.393339     -0.510826     -3.912023  \n",
       "2          0.05  0.875469    3.201526      0.553885     -2.995732  \n",
       "3          0.03  0.182322    3.002211      0.239017     -3.506558  \n",
       "4          0.03  0.182322    3.205182      0.182322     -3.506558  \n",
       "...         ...       ...         ...           ...           ...  \n",
       "3306       0.01  0.875469    1.449269     -0.150823     -4.605170  \n",
       "3307       0.04  0.182322    2.847232     -0.030459     -3.218876  \n",
       "3308       0.09  0.182322    2.660260     -0.248461     -2.407946  \n",
       "3309       0.01  0.182322    1.882514     -0.494296     -4.605170  \n",
       "3310       0.03  0.182322    1.332366     -0.544727     -3.506558  \n",
       "\n",
       "[3311 rows x 11 columns]"
      ]
     },
     "execution_count": 97,
     "metadata": {},
     "output_type": "execute_result"
    }
   ],
   "source": [
    "df_embedded"
   ]
  },
  {
   "cell_type": "code",
   "execution_count": 98,
   "id": "latest-bacon",
   "metadata": {},
   "outputs": [],
   "source": [
    "features=['ln_Z_1500m','ln_ZDR_1500m']"
   ]
  },
  {
   "cell_type": "code",
   "execution_count": 99,
   "id": "promising-cliff",
   "metadata": {},
   "outputs": [],
   "source": [
    "X=df_embedded[features]"
   ]
  },
  {
   "cell_type": "code",
   "execution_count": 100,
   "id": "grand-greek",
   "metadata": {},
   "outputs": [],
   "source": [
    "Y=df_embedded['ln_R_10p']"
   ]
  },
  {
   "cell_type": "code",
   "execution_count": 108,
   "id": "addressed-swing",
   "metadata": {},
   "outputs": [],
   "source": [
    "X_train, X_test, y_train, y_test = train_test_split(X, Y,train_size=0.8, test_size=0.2, random_state=0)"
   ]
  },
  {
   "cell_type": "code",
   "execution_count": 109,
   "id": "loose-happiness",
   "metadata": {},
   "outputs": [],
   "source": [
    "from sklearn.linear_model import LinearRegression"
   ]
  },
  {
   "cell_type": "code",
   "execution_count": 110,
   "id": "fossil-sheet",
   "metadata": {},
   "outputs": [
    {
     "data": {
      "text/plain": [
       "0.11372731254121049"
      ]
     },
     "execution_count": 110,
     "metadata": {},
     "output_type": "execute_result"
    }
   ],
   "source": [
    "regressor = LinearRegression()\n",
    "regressor.fit(X_train, y_train)\n",
    "regressor.score(X_test,y_test)"
   ]
  },
  {
   "cell_type": "code",
   "execution_count": 111,
   "id": "champion-sheep",
   "metadata": {},
   "outputs": [],
   "source": [
    "y_pred=regressor.predict(X_test)"
   ]
  },
  {
   "cell_type": "code",
   "execution_count": 112,
   "id": "alleged-interim",
   "metadata": {},
   "outputs": [
    {
     "name": "stdout",
     "output_type": "stream",
     "text": [
      "R^2:  0.11372731254121049\n",
      "MSE:  0.7218338397726581\n",
      "RMSE:  0.8496080506755207\n",
      "MAE:  0.6675991403366628\n"
     ]
    }
   ],
   "source": [
    "from sklearn.metrics import mean_squared_error,mean_absolute_error,r2_score\n",
    "import math\n",
    "print(\"R^2: \",r2_score(y_test, y_pred))\n",
    "print(\"MSE: \",mean_squared_error(y_test, y_pred))\n",
    "print(\"RMSE: \",math.sqrt(mean_squared_error(y_test, y_pred)))\n",
    "print(\"MAE: \",mean_absolute_error(y_test, y_pred))"
   ]
  },
  {
   "cell_type": "code",
   "execution_count": 114,
   "id": "governing-teach",
   "metadata": {},
   "outputs": [
    {
     "data": {
      "text/html": [
       "<div>\n",
       "<style scoped>\n",
       "    .dataframe tbody tr th:only-of-type {\n",
       "        vertical-align: middle;\n",
       "    }\n",
       "\n",
       "    .dataframe tbody tr th {\n",
       "        vertical-align: top;\n",
       "    }\n",
       "\n",
       "    .dataframe thead th {\n",
       "        text-align: right;\n",
       "    }\n",
       "</style>\n",
       "<table border=\"1\" class=\"dataframe\">\n",
       "  <thead>\n",
       "    <tr style=\"text-align: right;\">\n",
       "      <th></th>\n",
       "      <th>ln_Z_1500m</th>\n",
       "      <th>ln_ZDR_1500m</th>\n",
       "    </tr>\n",
       "  </thead>\n",
       "  <tbody>\n",
       "    <tr>\n",
       "      <th>2716</th>\n",
       "      <td>3.172203</td>\n",
       "      <td>0.067659</td>\n",
       "    </tr>\n",
       "    <tr>\n",
       "      <th>701</th>\n",
       "      <td>2.898671</td>\n",
       "      <td>-0.051293</td>\n",
       "    </tr>\n",
       "    <tr>\n",
       "      <th>3132</th>\n",
       "      <td>3.247658</td>\n",
       "      <td>0.076961</td>\n",
       "    </tr>\n",
       "    <tr>\n",
       "      <th>1196</th>\n",
       "      <td>2.919391</td>\n",
       "      <td>-0.597837</td>\n",
       "    </tr>\n",
       "    <tr>\n",
       "      <th>3089</th>\n",
       "      <td>3.458837</td>\n",
       "      <td>0.270027</td>\n",
       "    </tr>\n",
       "    <tr>\n",
       "      <th>...</th>\n",
       "      <td>...</td>\n",
       "      <td>...</td>\n",
       "    </tr>\n",
       "    <tr>\n",
       "      <th>1129</th>\n",
       "      <td>2.683074</td>\n",
       "      <td>-0.562119</td>\n",
       "    </tr>\n",
       "    <tr>\n",
       "      <th>3201</th>\n",
       "      <td>2.916689</td>\n",
       "      <td>0.329304</td>\n",
       "    </tr>\n",
       "    <tr>\n",
       "      <th>2791</th>\n",
       "      <td>2.937043</td>\n",
       "      <td>-0.314711</td>\n",
       "    </tr>\n",
       "    <tr>\n",
       "      <th>1572</th>\n",
       "      <td>3.282789</td>\n",
       "      <td>0.231112</td>\n",
       "    </tr>\n",
       "    <tr>\n",
       "      <th>1764</th>\n",
       "      <td>3.016515</td>\n",
       "      <td>0.425268</td>\n",
       "    </tr>\n",
       "  </tbody>\n",
       "</table>\n",
       "<p>663 rows × 2 columns</p>\n",
       "</div>"
      ],
      "text/plain": [
       "      ln_Z_1500m  ln_ZDR_1500m\n",
       "2716    3.172203      0.067659\n",
       "701     2.898671     -0.051293\n",
       "3132    3.247658      0.076961\n",
       "1196    2.919391     -0.597837\n",
       "3089    3.458837      0.270027\n",
       "...          ...           ...\n",
       "1129    2.683074     -0.562119\n",
       "3201    2.916689      0.329304\n",
       "2791    2.937043     -0.314711\n",
       "1572    3.282789      0.231112\n",
       "1764    3.016515      0.425268\n",
       "\n",
       "[663 rows x 2 columns]"
      ]
     },
     "execution_count": 114,
     "metadata": {},
     "output_type": "execute_result"
    }
   ],
   "source": [
    "X_test"
   ]
  },
  {
   "cell_type": "code",
   "execution_count": 123,
   "id": "fleet-floating",
   "metadata": {},
   "outputs": [
    {
     "data": {
      "text/plain": [
       "<matplotlib.collections.PathCollection at 0x25679e78208>"
      ]
     },
     "execution_count": 123,
     "metadata": {},
     "output_type": "execute_result"
    },
    {
     "data": {
      "image/png": "[encoded data removed]",
      "text/plain": [
       "<Figure size 432x288 with 1 Axes>"
      ]
     },
     "metadata": {
      "needs_background": "light"
     },
     "output_type": "display_data"
    }
   ],
   "source": [
    "#Plot predicted values\n",
    "plt.scatter(range(0,len(y_test[0:50])), y_test[0:50], color = 'red', label = 'Predicted Value')\n",
    "plt.scatter(range(0,len(y_pred[0:50])), y_pred[0:50], color = 'blue', label = 'Predicted Value')\n",
    "#Plot the regression line\n",
    "#plt.plot(X_train, regressor.predict(X_train), color = 'blue', label = 'Linear Regression')\n",
    "#Label the Plot\n",
    "#plt.title('Salary vs Experience (Test Set)')\n",
    "#plt.xlabel('Years of Experience')\n",
    "#plt.ylabel('Salary')\n",
    "#Show the plot\n",
    "#plt.show()"
   ]
  },
  {
   "cell_type": "code",
   "execution_count": 120,
   "id": "painful-cheese",
   "metadata": {},
   "outputs": [
    {
     "data": {
      "text/plain": [
       "range(0, 663)"
      ]
     },
     "execution_count": 120,
     "metadata": {},
     "output_type": "execute_result"
    }
   ],
   "source": [
    "range(0,len(y_test))"
   ]
  },
  {
   "cell_type": "code",
   "execution_count": 124,
   "id": "comparative-october",
   "metadata": {},
   "outputs": [
    {
     "data": {
      "text/plain": [
       "-2.4141561479681966"
      ]
     },
     "execution_count": 124,
     "metadata": {},
     "output_type": "execute_result"
    }
   ],
   "source": [
    "y_pred.min()"
   ]
  },
  {
   "cell_type": "code",
   "execution_count": 125,
   "id": "minute-given",
   "metadata": {},
   "outputs": [
    {
     "data": {
      "text/plain": [
       "0.1823215567939546"
      ]
     },
     "execution_count": 125,
     "metadata": {},
     "output_type": "execute_result"
    }
   ],
   "source": [
    "y_test.min()"
   ]
  },
  {
   "cell_type": "code",
   "execution_count": null,
   "id": "specialized-compromise",
   "metadata": {},
   "outputs": [],
   "source": []
  }
 ],
 "metadata": {
  "kernelspec": {
   "display_name": "Python 3",
   "language": "python",
   "name": "python3"
  },
  "language_info": {
   "codemirror_mode": {
    "name": "ipython",
    "version": 3
   },
   "file_extension": ".py",
   "mimetype": "text/x-python",
   "name": "python",
   "nbconvert_exporter": "python",
   "pygments_lexer": "ipython3",
   "version": "3.7.9"
  }
 },
 "nbformat": 4,
 "nbformat_minor": 5
}
