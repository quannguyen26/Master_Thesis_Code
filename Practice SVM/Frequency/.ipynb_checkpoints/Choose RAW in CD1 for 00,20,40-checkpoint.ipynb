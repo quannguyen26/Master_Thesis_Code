{
 "cells": [
  {
   "cell_type": "code",
   "execution_count": 3,
   "id": "tough-transportation",
   "metadata": {},
   "outputs": [],
   "source": [
    "import os\n",
    "import shutil"
   ]
  },
  {
   "cell_type": "code",
   "execution_count": 8,
   "id": "authorized-carolina",
   "metadata": {},
   "outputs": [],
   "source": [
    "linkRAW=\"D:/radar datas 2021/3.2021/home/radarop/Desktop/SL2021/29/\""
   ]
  },
  {
   "cell_type": "code",
   "execution_count": 9,
   "id": "cultural-glenn",
   "metadata": {},
   "outputs": [],
   "source": [
    "for name in os.listdir(linkRAW):\n",
    "    if name[12:14]=='00':\n",
    "        if name[11:13]=='00' or name[11:13]=='20' or name[11:13]=='40' :\n",
    "            newPath = shutil.copy(linkRAW+name,\"D:/radar datas 2021/3.2021/\")"
   ]
  },
  {
   "cell_type": "markdown",
   "id": "driven-register",
   "metadata": {},
   "source": [
    "Choose  RAW files 00 20 40"
   ]
  },
  {
   "cell_type": "code",
   "execution_count": null,
   "id": "approximate-cookie",
   "metadata": {},
   "outputs": [],
   "source": [
    "linkRAW=\"D:/radar datas 2021/5.2021/a/\"\n",
    "for name in os.listdir(linkRAW):\n",
    "    if name[11:13]=='00' or name[11:13]=='20' or name[11:13]=='40' :\n",
    "        newPath = shutil.copy(linkRAW+name,\"E:/after_datas/\")"
   ]
  }
 ],
 "metadata": {
  "kernelspec": {
   "display_name": "Python 3",
   "language": "python",
   "name": "python3"
  },
  "language_info": {
   "codemirror_mode": {
    "name": "ipython",
    "version": 3
   },
   "file_extension": ".py",
   "mimetype": "text/x-python",
   "name": "python",
   "nbconvert_exporter": "python",
   "pygments_lexer": "ipython3",
   "version": "3.7.9"
  }
 },
 "nbformat": 4,
 "nbformat_minor": 5
}
