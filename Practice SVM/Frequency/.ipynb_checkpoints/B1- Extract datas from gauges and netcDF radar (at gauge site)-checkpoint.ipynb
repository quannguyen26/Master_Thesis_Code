{
 "cells": [
  {
   "cell_type": "code",
   "execution_count": 1,
   "id": "formed-harassment",
   "metadata": {},
   "outputs": [],
   "source": [
    "import pandas as pd\n",
    "import os\n",
    "import numpy as np\n",
    "import numpy.ma as ma\n",
    "import glob\n",
    "from netCDF4 import Dataset,date2num,num2date\n",
    "import numpy as np\n",
    "import pandas as pd\n",
    "import warnings\n",
    "warnings.filterwarnings('ignore')\n",
    "import xlsxwriter"
   ]
  },
  {
   "cell_type": "code",
   "execution_count": 2,
   "id": "norwegian-performance",
   "metadata": {},
   "outputs": [],
   "source": [
    "def extract_1(Var,min_index_lat,min_index_lon):\n",
    "    cycle=np.array([Var[min_index_lat,min_index_lon],Var[min_index_lat+1,min_index_lon],\n",
    "                    Var[min_index_lat-1,min_index_lon],Var[min_index_lat,min_index_lon+1],\n",
    "                    Var[min_index_lat,min_index_lon-1]])\n",
    "    cycle[cycle==0]=np.nan\n",
    "    a=round(np.nanmean(cycle),0)\n",
    "    return a\n",
    "def extract_2(Var,min_index_lat,min_index_lon):\n",
    "    cycle=np.array([Var[min_index_lat,min_index_lon],Var[min_index_lat+1,min_index_lon],\n",
    "                    Var[min_index_lat-1,min_index_lon],Var[min_index_lat,min_index_lon+1],\n",
    "                    Var[min_index_lat,min_index_lon-1]])\n",
    "    cycle[cycle==0]=np.nan\n",
    "    value=np.nanmean(cycle)\n",
    "    return value"
   ]
  },
  {
   "cell_type": "code",
   "execution_count": 3,
   "id": "designed-punishment",
   "metadata": {
    "scrolled": true
   },
   "outputs": [
    {
     "ename": "ValueError",
     "evalue": "Worksheet named 'PA6' not found",
     "output_type": "error",
     "traceback": [
      "\u001b[1;31m---------------------------------------------------------------------------\u001b[0m",
      "\u001b[1;31mValueError\u001b[0m                                Traceback (most recent call last)",
      "\u001b[1;32m<ipython-input-3-67e64960eff1>\u001b[0m in \u001b[0;36m<module>\u001b[1;34m\u001b[0m\n\u001b[0;32m      1\u001b[0m \u001b[1;31m#read informations of gauge stations\u001b[0m\u001b[1;33m\u001b[0m\u001b[1;33m\u001b[0m\u001b[1;33m\u001b[0m\u001b[0m\n\u001b[1;32m----> 2\u001b[1;33m \u001b[0mstations\u001b[0m\u001b[1;33m=\u001b[0m\u001b[0mpd\u001b[0m\u001b[1;33m.\u001b[0m\u001b[0mread_excel\u001b[0m\u001b[1;33m(\u001b[0m\u001b[0mpd\u001b[0m\u001b[1;33m.\u001b[0m\u001b[0mExcelFile\u001b[0m\u001b[1;33m(\u001b[0m\u001b[1;34m\"C:/Users/Admin/OneDrive/Desktop/gauges2.xlsx\"\u001b[0m\u001b[1;33m)\u001b[0m\u001b[1;33m,\u001b[0m\u001b[0msheet_name\u001b[0m\u001b[1;33m=\u001b[0m\u001b[1;34m'PA6'\u001b[0m\u001b[1;33m)\u001b[0m\u001b[1;33m\u001b[0m\u001b[1;33m\u001b[0m\u001b[0m\n\u001b[0m\u001b[0;32m      3\u001b[0m \u001b[1;31m#Choose a Case: Embedded/Squall line/Full stratiform\u001b[0m\u001b[1;33m\u001b[0m\u001b[1;33m\u001b[0m\u001b[1;33m\u001b[0m\u001b[0m\n\u001b[0;32m      4\u001b[0m \u001b[1;31m#Testing-Embedded:1,2,8,9,10,12,13,14,15/Full stratiform:1,6,7,8,10,12,13,14,15/Squall line:2,6,7,9,10,12,13,14,15\u001b[0m\u001b[1;33m\u001b[0m\u001b[1;33m\u001b[0m\u001b[1;33m\u001b[0m\u001b[0m\n\u001b[0;32m      5\u001b[0m \u001b[0mCase\u001b[0m\u001b[1;33m=\u001b[0m\u001b[1;34m'General.xlsx'\u001b[0m\u001b[1;33m\u001b[0m\u001b[1;33m\u001b[0m\u001b[0m\n",
      "\u001b[1;32m~\\anaconda3\\envs\\pyart_env\\lib\\site-packages\\pandas\\util\\_decorators.py\u001b[0m in \u001b[0;36mwrapper\u001b[1;34m(*args, **kwargs)\u001b[0m\n\u001b[0;32m    297\u001b[0m                 )\n\u001b[0;32m    298\u001b[0m                 \u001b[0mwarnings\u001b[0m\u001b[1;33m.\u001b[0m\u001b[0mwarn\u001b[0m\u001b[1;33m(\u001b[0m\u001b[0mmsg\u001b[0m\u001b[1;33m,\u001b[0m \u001b[0mFutureWarning\u001b[0m\u001b[1;33m,\u001b[0m \u001b[0mstacklevel\u001b[0m\u001b[1;33m=\u001b[0m\u001b[0mstacklevel\u001b[0m\u001b[1;33m)\u001b[0m\u001b[1;33m\u001b[0m\u001b[1;33m\u001b[0m\u001b[0m\n\u001b[1;32m--> 299\u001b[1;33m             \u001b[1;32mreturn\u001b[0m \u001b[0mfunc\u001b[0m\u001b[1;33m(\u001b[0m\u001b[1;33m*\u001b[0m\u001b[0margs\u001b[0m\u001b[1;33m,\u001b[0m \u001b[1;33m**\u001b[0m\u001b[0mkwargs\u001b[0m\u001b[1;33m)\u001b[0m\u001b[1;33m\u001b[0m\u001b[1;33m\u001b[0m\u001b[0m\n\u001b[0m\u001b[0;32m    300\u001b[0m \u001b[1;33m\u001b[0m\u001b[0m\n\u001b[0;32m    301\u001b[0m         \u001b[1;32mreturn\u001b[0m \u001b[0mwrapper\u001b[0m\u001b[1;33m\u001b[0m\u001b[1;33m\u001b[0m\u001b[0m\n",
      "\u001b[1;32m~\\anaconda3\\envs\\pyart_env\\lib\\site-packages\\pandas\\io\\excel\\_base.py\u001b[0m in \u001b[0;36mread_excel\u001b[1;34m(io, sheet_name, header, names, index_col, usecols, squeeze, dtype, engine, converters, true_values, false_values, skiprows, nrows, na_values, keep_default_na, na_filter, verbose, parse_dates, date_parser, thousands, comment, skipfooter, convert_float, mangle_dupe_cols, storage_options)\u001b[0m\n\u001b[0;32m    365\u001b[0m             \u001b[0mskipfooter\u001b[0m\u001b[1;33m=\u001b[0m\u001b[0mskipfooter\u001b[0m\u001b[1;33m,\u001b[0m\u001b[1;33m\u001b[0m\u001b[1;33m\u001b[0m\u001b[0m\n\u001b[0;32m    366\u001b[0m             \u001b[0mconvert_float\u001b[0m\u001b[1;33m=\u001b[0m\u001b[0mconvert_float\u001b[0m\u001b[1;33m,\u001b[0m\u001b[1;33m\u001b[0m\u001b[1;33m\u001b[0m\u001b[0m\n\u001b[1;32m--> 367\u001b[1;33m             \u001b[0mmangle_dupe_cols\u001b[0m\u001b[1;33m=\u001b[0m\u001b[0mmangle_dupe_cols\u001b[0m\u001b[1;33m,\u001b[0m\u001b[1;33m\u001b[0m\u001b[1;33m\u001b[0m\u001b[0m\n\u001b[0m\u001b[0;32m    368\u001b[0m         )\n\u001b[0;32m    369\u001b[0m     \u001b[1;32mfinally\u001b[0m\u001b[1;33m:\u001b[0m\u001b[1;33m\u001b[0m\u001b[1;33m\u001b[0m\u001b[0m\n",
      "\u001b[1;32m~\\anaconda3\\envs\\pyart_env\\lib\\site-packages\\pandas\\io\\excel\\_base.py\u001b[0m in \u001b[0;36mparse\u001b[1;34m(self, sheet_name, header, names, index_col, usecols, squeeze, converters, true_values, false_values, skiprows, nrows, na_values, parse_dates, date_parser, thousands, comment, skipfooter, convert_float, mangle_dupe_cols, **kwds)\u001b[0m\n\u001b[0;32m   1188\u001b[0m             \u001b[0mconvert_float\u001b[0m\u001b[1;33m=\u001b[0m\u001b[0mconvert_float\u001b[0m\u001b[1;33m,\u001b[0m\u001b[1;33m\u001b[0m\u001b[1;33m\u001b[0m\u001b[0m\n\u001b[0;32m   1189\u001b[0m             \u001b[0mmangle_dupe_cols\u001b[0m\u001b[1;33m=\u001b[0m\u001b[0mmangle_dupe_cols\u001b[0m\u001b[1;33m,\u001b[0m\u001b[1;33m\u001b[0m\u001b[1;33m\u001b[0m\u001b[0m\n\u001b[1;32m-> 1190\u001b[1;33m             \u001b[1;33m**\u001b[0m\u001b[0mkwds\u001b[0m\u001b[1;33m,\u001b[0m\u001b[1;33m\u001b[0m\u001b[1;33m\u001b[0m\u001b[0m\n\u001b[0m\u001b[0;32m   1191\u001b[0m         )\n\u001b[0;32m   1192\u001b[0m \u001b[1;33m\u001b[0m\u001b[0m\n",
      "\u001b[1;32m~\\anaconda3\\envs\\pyart_env\\lib\\site-packages\\pandas\\io\\excel\\_base.py\u001b[0m in \u001b[0;36mparse\u001b[1;34m(self, sheet_name, header, names, index_col, usecols, squeeze, dtype, true_values, false_values, skiprows, nrows, na_values, verbose, parse_dates, date_parser, thousands, comment, skipfooter, convert_float, mangle_dupe_cols, **kwds)\u001b[0m\n\u001b[0;32m    486\u001b[0m \u001b[1;33m\u001b[0m\u001b[0m\n\u001b[0;32m    487\u001b[0m             \u001b[1;32mif\u001b[0m \u001b[0misinstance\u001b[0m\u001b[1;33m(\u001b[0m\u001b[0masheetname\u001b[0m\u001b[1;33m,\u001b[0m \u001b[0mstr\u001b[0m\u001b[1;33m)\u001b[0m\u001b[1;33m:\u001b[0m\u001b[1;33m\u001b[0m\u001b[1;33m\u001b[0m\u001b[0m\n\u001b[1;32m--> 488\u001b[1;33m                 \u001b[0msheet\u001b[0m \u001b[1;33m=\u001b[0m \u001b[0mself\u001b[0m\u001b[1;33m.\u001b[0m\u001b[0mget_sheet_by_name\u001b[0m\u001b[1;33m(\u001b[0m\u001b[0masheetname\u001b[0m\u001b[1;33m)\u001b[0m\u001b[1;33m\u001b[0m\u001b[1;33m\u001b[0m\u001b[0m\n\u001b[0m\u001b[0;32m    489\u001b[0m             \u001b[1;32melse\u001b[0m\u001b[1;33m:\u001b[0m  \u001b[1;31m# assume an integer if not a string\u001b[0m\u001b[1;33m\u001b[0m\u001b[1;33m\u001b[0m\u001b[0m\n\u001b[0;32m    490\u001b[0m                 \u001b[0msheet\u001b[0m \u001b[1;33m=\u001b[0m \u001b[0mself\u001b[0m\u001b[1;33m.\u001b[0m\u001b[0mget_sheet_by_index\u001b[0m\u001b[1;33m(\u001b[0m\u001b[0masheetname\u001b[0m\u001b[1;33m)\u001b[0m\u001b[1;33m\u001b[0m\u001b[1;33m\u001b[0m\u001b[0m\n",
      "\u001b[1;32m~\\anaconda3\\envs\\pyart_env\\lib\\site-packages\\pandas\\io\\excel\\_openpyxl.py\u001b[0m in \u001b[0;36mget_sheet_by_name\u001b[1;34m(self, name)\u001b[0m\n\u001b[0;32m    499\u001b[0m \u001b[1;33m\u001b[0m\u001b[0m\n\u001b[0;32m    500\u001b[0m     \u001b[1;32mdef\u001b[0m \u001b[0mget_sheet_by_name\u001b[0m\u001b[1;33m(\u001b[0m\u001b[0mself\u001b[0m\u001b[1;33m,\u001b[0m \u001b[0mname\u001b[0m\u001b[1;33m:\u001b[0m \u001b[0mstr\u001b[0m\u001b[1;33m)\u001b[0m\u001b[1;33m:\u001b[0m\u001b[1;33m\u001b[0m\u001b[1;33m\u001b[0m\u001b[0m\n\u001b[1;32m--> 501\u001b[1;33m         \u001b[0mself\u001b[0m\u001b[1;33m.\u001b[0m\u001b[0mraise_if_bad_sheet_by_name\u001b[0m\u001b[1;33m(\u001b[0m\u001b[0mname\u001b[0m\u001b[1;33m)\u001b[0m\u001b[1;33m\u001b[0m\u001b[1;33m\u001b[0m\u001b[0m\n\u001b[0m\u001b[0;32m    502\u001b[0m         \u001b[1;32mreturn\u001b[0m \u001b[0mself\u001b[0m\u001b[1;33m.\u001b[0m\u001b[0mbook\u001b[0m\u001b[1;33m[\u001b[0m\u001b[0mname\u001b[0m\u001b[1;33m]\u001b[0m\u001b[1;33m\u001b[0m\u001b[1;33m\u001b[0m\u001b[0m\n\u001b[0;32m    503\u001b[0m \u001b[1;33m\u001b[0m\u001b[0m\n",
      "\u001b[1;32m~\\anaconda3\\envs\\pyart_env\\lib\\site-packages\\pandas\\io\\excel\\_base.py\u001b[0m in \u001b[0;36mraise_if_bad_sheet_by_name\u001b[1;34m(self, name)\u001b[0m\n\u001b[0;32m    435\u001b[0m     \u001b[1;32mdef\u001b[0m \u001b[0mraise_if_bad_sheet_by_name\u001b[0m\u001b[1;33m(\u001b[0m\u001b[0mself\u001b[0m\u001b[1;33m,\u001b[0m \u001b[0mname\u001b[0m\u001b[1;33m:\u001b[0m \u001b[0mstr\u001b[0m\u001b[1;33m)\u001b[0m \u001b[1;33m->\u001b[0m \u001b[1;32mNone\u001b[0m\u001b[1;33m:\u001b[0m\u001b[1;33m\u001b[0m\u001b[1;33m\u001b[0m\u001b[0m\n\u001b[0;32m    436\u001b[0m         \u001b[1;32mif\u001b[0m \u001b[0mname\u001b[0m \u001b[1;32mnot\u001b[0m \u001b[1;32min\u001b[0m \u001b[0mself\u001b[0m\u001b[1;33m.\u001b[0m\u001b[0msheet_names\u001b[0m\u001b[1;33m:\u001b[0m\u001b[1;33m\u001b[0m\u001b[1;33m\u001b[0m\u001b[0m\n\u001b[1;32m--> 437\u001b[1;33m             \u001b[1;32mraise\u001b[0m \u001b[0mValueError\u001b[0m\u001b[1;33m(\u001b[0m\u001b[1;34mf\"Worksheet named '{name}' not found\"\u001b[0m\u001b[1;33m)\u001b[0m\u001b[1;33m\u001b[0m\u001b[1;33m\u001b[0m\u001b[0m\n\u001b[0m\u001b[0;32m    438\u001b[0m \u001b[1;33m\u001b[0m\u001b[0m\n\u001b[0;32m    439\u001b[0m     def parse(\n",
      "\u001b[1;31mValueError\u001b[0m: Worksheet named 'PA6' not found"
     ]
    }
   ],
   "source": [
    "#read informations of gauge stations\n",
    "stations=pd.read_excel(pd.ExcelFile(\"C:/Users/Admin/OneDrive/Desktop/gauges2.xlsx\"),sheet_name='PA6')\n",
    "#Choose a Case: Embedded/Squall line/Full stratiform\n",
    "#Testing-Embedded:1,2,8,9,10,12,13,14,15/Full stratiform:1,6,7,8,10,12,13,14,15/Squall line:2,6,7,9,10,12,13,14,15\n",
    "Case='General.xlsx'\n",
    "#Choose events of a case\n",
    "Case_dic={Case:[str(i) for i in[*range(1,28,1)]]}\n",
    "frames_Z_ZDR_KDP=[]\n",
    "#sheets=[]\n",
    "for r in Case_dic[Case]:\n",
    "    #make gauges dataframe at each events\n",
    "    df_gauges=pd.read_excel('E:/data/Gauges/Finall/PA6/'+Case,sheet_name=r)\n",
    "    #make dataframes for each dual-pol variables\n",
    "    linkNC='D:/data/SVM_netCDF/'+Case[:-5]+'/'+r+'/'\n",
    "    df_CS_SVM=pd.DataFrame(0,columns=df_gauges.columns[3:],index=stations['Tên Trạm'])\n",
    "    df_Zh=pd.DataFrame(0,columns=df_gauges.columns[3:],index=stations['Tên Trạm'])\n",
    "    df_ZDR=pd.DataFrame(0,columns=df_gauges.columns[3:],index=stations['Tên Trạm'])\n",
    "    df_KDP=pd.DataFrame(0,columns=df_gauges.columns[3:],index=stations['Tên Trạm'])\n",
    "    n=0\n",
    "    for file_name in os.listdir(linkNC):\n",
    "        data=Dataset(linkNC+file_name,'r') # at 1 time\n",
    "        Zh=np.ma.power(10.,0.1*data.variables['Zh_1.5km'][0,:,:]).filled(fill_value=0.0)\n",
    "        ZDR=np.ma.power(10.,0.1*data.variables['ZDR_1.5km'][0,:,:]).filled(fill_value=0.0)\n",
    "        KDP=data.variables['KDP_1.5km'][0,:,:].filled(fill_value=0.0)\n",
    "        for index,row in stations.iterrows():\n",
    "            locations=row['Tên Trạm']\n",
    "            location_lat=row['Latitude']\n",
    "            location_lon=row['Longitude']\n",
    "            lat=data.variables['latitude'][:]\n",
    "            lon=data.variables['longitude'][:]\n",
    "            sq_diff_lat=(lat-location_lat)**2\n",
    "            sq_diff_lon=(lon-location_lon)**2\n",
    "            min_index_lat=sq_diff_lat.argmin()\n",
    "            min_index_lon=sq_diff_lon.argmin()\n",
    "            df_CS_SVM.loc[[locations],list(df_gauges.columns[3:])[n]]=data.variables['CS_SVM'][0,min_index_lat,min_index_lon].filled(fill_value=0.0)\n",
    "            df_Zh.loc[[locations],list(df_gauges.columns[3:])[n]]=np.log(Zh[min_index_lat,min_index_lon])\n",
    "            df_ZDR.loc[[locations],list(df_gauges.columns[3:])[n]]=np.log(ZDR[min_index_lat,min_index_lon])\n",
    "            df_KDP.loc[[locations],list(df_gauges.columns[3:])[n]]=np.log(KDP[min_index_lat,min_index_lon])\n",
    "        n=n+1\n",
    "    df=pd.DataFrame(data={  \n",
    "    'Stations': list(df_gauges['Trạm Đo'][:])*df_gauges.columns[3:].size,\n",
    "    'times': list(np.repeat(df_gauges.columns[3:],df_gauges['Trạm Đo'].size)),\n",
    "    'SC_SVM':list(pd.Series(df_CS_SVM.iloc[:,:].values.ravel('F'))),\n",
    "    'R_10p':list(np.log(pd.Series(df_gauges.iloc[:,3:].values.ravel('F'))*6)),\n",
    "    'Z_1500m':list(pd.Series(df_Zh.iloc[:,:].values.ravel('F'))),\n",
    "    'ZDR_1500m':list(pd.Series(df_ZDR.iloc[:,:].values.ravel('F'))),\n",
    "    'KDP_1500m':list(pd.Series(df_KDP.iloc[:,:].values.ravel('F')))  \n",
    "    })\n",
    "    df['KDP_1500m'].replace([np.inf, -np.inf], 999, inplace=True)\n",
    "    frames_Z_ZDR_KDP.append(df)\n",
    "    print(r)\n",
    "result = pd.concat(frames_Z_ZDR_KDP,ignore_index=True)\n",
    "df_Stratiform_Z_ZDR=result.loc[(result.R_10p>0)&(result.SC_SVM==1)].drop(['KDP_1500m'], axis=1)\n",
    "df_Convection_Z_ZDR=result.loc[(result.R_10p>0)&(result.SC_SVM==2)].drop(['KDP_1500m'], axis=1)\n",
    "df_Stratiform_Z_ZDR_KDP=result.loc[(result.R_10p>0)&(result.SC_SVM==1)&(result.KDP_1500m!=999)]\n",
    "df_Convection_Z_ZDR_KDP=result.loc[(result.R_10p>0)&(result.SC_SVM==2)&(result.KDP_1500m!=999)]\n",
    "df_Z=result.loc[(result.R_10p>0)]\n",
    "zz=[df_Stratiform_Z_ZDR,df_Convection_Z_ZDR,df_Stratiform_Z_ZDR_KDP,df_Convection_Z_ZDR_KDP,df_Z]\n",
    "sheets=['Stratiform_Z_ZDR','Convection_Z_ZDR','Stratiform_Z_ZDR_KDP','Convection_Z_ZDR_KDP','Z']\n",
    "out_path = r\"E:/data/QPE/at_stations_PA6/\"+Case \n",
    "writer = pd.ExcelWriter(out_path,engine='xlsxwriter')   \n",
    "for dataframe, sheet in zip(zz, sheets):\n",
    "    dataframe.to_excel(writer, sheet_name=sheet, startrow=0 , startcol=0,index=False)   \n",
    "writer.save()"
   ]
  },
  {
   "cell_type": "code",
   "execution_count": 5,
   "id": "colonial-camel",
   "metadata": {},
   "outputs": [],
   "source": [
    "df_Stratiform_Z_ZDR=result.loc[(result.R_10p>0)&(result.SC_SVM==1)].drop(['KDP_1500m'], axis=1)\n",
    "df_Convection_Z_ZDR=result.loc[(result.R_10p>0)&(result.SC_SVM==2)].drop(['KDP_1500m'], axis=1)\n",
    "df_Stratiform_Z_ZDR_KDP=result.loc[(result.R_10p>0)&(result.SC_SVM==1)&(result.KDP_1500m!=999)]\n",
    "df_Convection_Z_ZDR_KDP=result.loc[(result.R_10p>0)&(result.SC_SVM==2)&(result.KDP_1500m!=999)]\n",
    "df_Z=result.loc[(result.R_10p>0)]\n",
    "zz=[df_Stratiform_Z_ZDR,df_Convection_Z_ZDR,df_Stratiform_Z_ZDR_KDP,df_Convection_Z_ZDR_KDP,df_Z]\n",
    "sheets=['Stratiform_Z_ZDR','Convection_Z_ZDR','Stratiform_Z_ZDR_KDP','Convection_Z_ZDR_KDP','Z']\n",
    "out_path = r\"E:/data/QPE/at_stations_test2/\"+Case \n",
    "writer = pd.ExcelWriter(out_path,engine='xlsxwriter')   \n",
    "for dataframe, sheet in zip(zz, sheets):\n",
    "    dataframe.to_excel(writer, sheet_name=sheet, startrow=0 , startcol=0,index=False)   \n",
    "writer.save()"
   ]
  },
  {
   "cell_type": "code",
   "execution_count": null,
   "id": "controlled-delay",
   "metadata": {},
   "outputs": [],
   "source": []
  },
  {
   "cell_type": "code",
   "execution_count": null,
   "id": "technological-brunswick",
   "metadata": {},
   "outputs": [],
   "source": []
  }
 ],
 "metadata": {
  "kernelspec": {
   "display_name": "Python 3",
   "language": "python",
   "name": "python3"
  },
  "language_info": {
   "codemirror_mode": {
    "name": "ipython",
    "version": 3
   },
   "file_extension": ".py",
   "mimetype": "text/x-python",
   "name": "python",
   "nbconvert_exporter": "python",
   "pygments_lexer": "ipython3",
   "version": "3.7.9"
  }
 },
 "nbformat": 4,
 "nbformat_minor": 5
}
