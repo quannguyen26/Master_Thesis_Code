{
 "cells": [
  {
   "cell_type": "code",
   "execution_count": 16,
   "id": "sustained-torture",
   "metadata": {},
   "outputs": [],
   "source": [
    "import pandas as pd\n",
    "import os\n",
    "import numpy as np\n",
    "import numpy.ma as ma\n",
    "import glob\n",
    "from netCDF4 import Dataset,date2num,num2date\n",
    "import numpy as np\n",
    "import pandas as pd\n",
    "import warnings\n",
    "warnings.filterwarnings('ignore')\n",
    "import xlsxwriter"
   ]
  },
  {
   "cell_type": "code",
   "execution_count": 17,
   "id": "employed-mounting",
   "metadata": {},
   "outputs": [],
   "source": [
    "def extract(Var,min_index_lat,min_index_lon):\n",
    "    cycle=np.array([Var[min_index_lat,min_index_lon],Var[min_index_lat+1,min_index_lon],\n",
    "                    Var[min_index_lat-1,min_index_lon],Var[min_index_lat,min_index_lon+1],\n",
    "                    Var[min_index_lat,min_index_lon-1]])\n",
    "    cycle[cycle==999]=np.nan\n",
    "    a=np.nanmean(cycle)\n",
    "    return a"
   ]
  },
  {
   "cell_type": "code",
   "execution_count": null,
   "id": "precise-lawsuit",
   "metadata": {},
   "outputs": [],
   "source": [
    "#read informations of gauge stations\n",
    "stations=pd.read_excel(pd.ExcelFile(\"C:/Users/Admin/OneDrive/Desktop/gauges2.xlsx\"))\n",
    "#Choose a Case: Embedded/Squall line/Full stratiform\n",
    "#Testing-Full stratiform:1,7,8,9,12,14,15/Squall line:2,6,8,10,11,12/Embedded:1,2,3,7,9,10,12,13,14,16,17,18,19\n",
    "Case='Embedded.xlsx'\n",
    "#Choose events of a case\n",
    "Case_dic={Case:[str(i) for i in[1,2,3,7,9,10,12,13,14,16,17,18,19]]}\n",
    "frames=[]\n",
    "for r in Case_dic[Case]:\n",
    "    #make gauges dataframe at each events\n",
    "    df_gauges=pd.read_excel('D:/gauge datas 2021/Testing cases/'+Case,sheet_name=r)\n",
    "    #make dataframes for each dual-pol variables\n",
    "    linkNC='E:/SVM_netCDF_test_6/'+Case[:-5]+'/'+r+'/'\n",
    "    df_CS_SVM=pd.DataFrame(0,columns=df_gauges.columns[3:],index=stations['Tên Trạm'])\n",
    "    df_Zh=pd.DataFrame(0,columns=df_gauges.columns[3:],index=stations['Tên Trạm'])\n",
    "    df_ZDR=pd.DataFrame(0,columns=df_gauges.columns[3:],index=stations['Tên Trạm'])\n",
    "    df_KDP=pd.DataFrame(0,columns=df_gauges.columns[3:],index=stations['Tên Trạm'])\n",
    "    n=0\n",
    "    for file_name in os.listdir(linkNC):\n",
    "        data=Dataset(linkNC+file_name,'r') # at 1 time\n",
    "        CS_SVM=data.variables['CS_SVM'][0,:,:].filled(fill_value=999)\n",
    "        Zh=np.ma.power(10.,0.1*data.variables['Zh_1.5km'][0,:,:]).filled(fill_value=999)\n",
    "        ZDR=data.variables['ZDR_1.5km'][0,:,:].filled(fill_value=999)#np.ma.power(10.,0.1*data.variables['ZDR_1.5km'][0,:,:]).filled(fill_value=999)\n",
    "        KDP=data.variables['KDP_1.5km'][0,:,:].filled(fill_value=999)\n",
    "        for index,row in stations.iterrows():\n",
    "            locations=row['Tên Trạm']\n",
    "            location_lat=row['Latitude']\n",
    "            location_lon=row['Longitude']\n",
    "            lat=data.variables['latitude'][:]\n",
    "            lon=data.variables['longitude'][:]\n",
    "            sq_diff_lat=(lat-location_lat)**2\n",
    "            sq_diff_lon=(lon-location_lon)**2\n",
    "            min_index_lat=sq_diff_lat.argmin()\n",
    "            min_index_lon=sq_diff_lon.argmin()\n",
    "            df_CS_SVM.loc[[locations],list(df_gauges.columns[3:])[n]]=round(extract(CS_SVM,min_index_lat,min_index_lon),0)\n",
    "            df_Zh.loc[[locations],list(df_gauges.columns[3:])[n]]=np.log(extract(Zh,min_index_lat,min_index_lon))\n",
    "            df_ZDR.loc[[locations],list(df_gauges.columns[3:])[n]]=np.log(extract(ZDR,min_index_lat,min_index_lon))\n",
    "            df_KDP.loc[[locations],list(df_gauges.columns[3:])[n]]=np.log(extract(KDP,min_index_lat,min_index_lon))\n",
    "        n=n+1\n",
    "    df=pd.DataFrame(data={\n",
    "    'Stations': list(df_gauges['Trạm Đo'][:])*df_gauges.columns[3:].size,\n",
    "    'times': list(np.repeat(df_gauges.columns[3:],df_gauges['Trạm Đo'].size)),\n",
    "    'SC_SVM':list(pd.Series(df_CS_SVM.iloc[:,:].values.ravel('F'))),\n",
    "    'R_10p':list(np.log(pd.Series(df_gauges.iloc[:,3:].values.ravel('F'))*6)),\n",
    "    'Z_1500m':list(pd.Series(df_Zh.iloc[:,:].values.ravel('F'))),\n",
    "    'ZDR_1500m':list(pd.Series(df_ZDR.iloc[:,:].values.ravel('F'))),\n",
    "    'KDP_1500m':list(pd.Series(df_KDP.iloc[:,:].values.ravel('F')))  \n",
    "    })\n",
    "    frames.append(df)\n",
    "    print(r)\n",
    "result = pd.concat(frames,ignore_index=True)\n",
    "df_Stratform=result.loc[(result.R_10p>0)&(result.SC_SVM==1)]\n",
    "df_Convection=result.loc[(result.R_10p>0)&(result.SC_SVM==2)]\n",
    "zz=[df_Stratform,df_Convection]\n",
    "sheets=['Stratiform','Convection']\n",
    "out_path = r\"D:/gauge datas 2021/QPE_gauges/\"+Case\n",
    "writer = pd.ExcelWriter(out_path,engine='xlsxwriter')   \n",
    "for dataframe, sheet in zip(zz, sheets):\n",
    "    dataframe.to_excel(writer, sheet_name=sheet, startrow=0 , startcol=0,index=False)   \n",
    "writer.save()"
   ]
  },
  {
   "cell_type": "code",
   "execution_count": null,
   "id": "comic-programming",
   "metadata": {},
   "outputs": [],
   "source": []
  }
 ],
 "metadata": {
  "kernelspec": {
   "display_name": "Python 3",
   "language": "python",
   "name": "python3"
  },
  "language_info": {
   "codemirror_mode": {
    "name": "ipython",
    "version": 3
   },
   "file_extension": ".py",
   "mimetype": "text/x-python",
   "name": "python",
   "nbconvert_exporter": "python",
   "pygments_lexer": "ipython3",
   "version": "3.7.9"
  }
 },
 "nbformat": 4,
 "nbformat_minor": 5
}
