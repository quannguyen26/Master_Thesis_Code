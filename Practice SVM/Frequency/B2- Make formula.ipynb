{
 "cells": [
  {
   "cell_type": "code",
   "execution_count": 1,
   "id": "light-board",
   "metadata": {},
   "outputs": [],
   "source": [
    "import pandas as pd\n",
    "import os\n",
    "import numpy as np\n",
    "import numpy.ma as ma\n",
    "import glob\n",
    "from netCDF4 import Dataset,date2num,num2date\n",
    "import numpy as np\n",
    "import pandas as pd\n",
    "import warnings\n",
    "import sympy as sp\n",
    "import math\n",
    "warnings.filterwarnings('ignore')\n",
    "import xlsxwriter"
   ]
  },
  {
   "cell_type": "code",
   "execution_count": 2,
   "id": "touched-amateur",
   "metadata": {},
   "outputs": [],
   "source": [
    "def make_formula_1_var(df_SC,var1):\n",
    "    a1=df_SC['SC_SVM'].count()\n",
    "    b1=df_SC[var1].sum()\n",
    "    d1=df_SC['R_10p'].sum()\n",
    "    a2=b1\n",
    "    b2=(df_SC[var1]**2).sum()\n",
    "    d2=(df_SC[var1]*df_SC['R_10p']).sum()\n",
    "    x, y = sp.symbols('x, y')\n",
    "    eq1 = sp.Eq(a1*x+b1*y, d1)             \n",
    "    eq2 = sp.Eq(a2*x+b2*y, d2)\n",
    "    ans = sp.solve((eq1, eq2), (x, y))\n",
    "    a=round(math.exp(ans[x]),2)\n",
    "    b=round(ans[y],2)\n",
    "    return a,b\n",
    "def make_formula_2_var(df_SC,var1,var2):\n",
    "    a1=df_SC['SC_SVM'].count()\n",
    "    b1=df_SC[var1].sum()\n",
    "    c1=df_SC[var2].sum()\n",
    "    d1=df_SC['R_10p'].sum()\n",
    "    a2=b1\n",
    "    b2=(df_SC[var1]**2).sum()\n",
    "    c2=(df_SC[var1]*df_SC[var2]).sum()\n",
    "    d2=(df_SC[var1]*df_SC['R_10p']).sum()\n",
    "    a3=c1\n",
    "    b3=c2\n",
    "    c3=(df_SC[var2]**2).sum()\n",
    "    d3=(df_SC[var2]*df_SC['R_10p']).sum()\n",
    "    x, y, z = sp.symbols('x, y, z')\n",
    "    eq1 = sp.Eq(a1*x+b1*y+c1*z, d1)             \n",
    "    eq2 = sp.Eq(a2*x+b2*y+c2*z, d2)\n",
    "    eq3 = sp.Eq(a3*x+b3*y+c3*z, d3)\n",
    "    ans = sp.solve((eq1, eq2,eq3), (x, y, z))\n",
    "    a=round(math.exp(ans[x]),2)\n",
    "    b=round(ans[y],2)\n",
    "    c=round(ans[z],2)\n",
    "    return a,b,c\n",
    "def make_formula_3_var(df_SC,var1,var2,var3):\n",
    "    a1=df_SC['SC_SVM'].count()\n",
    "    b1=df_SC[var1].sum()\n",
    "    c1=df_SC[var2].sum()\n",
    "    d1=df_SC[var3].sum()\n",
    "    e1=df_SC['R_10p'].sum()\n",
    "    a2=b1\n",
    "    b2=(df_SC[var1]**2).sum()\n",
    "    c2=(df_SC[var1]*df_SC[var2]).sum()\n",
    "    d2=(df_SC[var1]*df_SC[var3]).sum()\n",
    "    e2=(df_SC[var1]*df_SC['R_10p']).sum()\n",
    "    a3=c1\n",
    "    b3=c2\n",
    "    c3=(df_SC[var2]**2).sum()\n",
    "    d3=(df_SC[var2]*df_SC[var3]).sum()\n",
    "    e3=(df_SC[var2]*df_SC['R_10p']).sum()\n",
    "    a4=d1\n",
    "    b4=d2\n",
    "    c4=d3\n",
    "    d4=(df_SC[var3]**2).sum()\n",
    "    e4=(df_SC[var3]*df_SC['R_10p']).sum()\n",
    "    x, y, z, t = sp.symbols('x, y, z, t')\n",
    "    eq1 = sp.Eq(a1*x+b1*y+c1*z+d1*t, e1)             \n",
    "    eq2 = sp.Eq(a2*x+b2*y+c2*z+d2*t, e2)\n",
    "    eq3 = sp.Eq(a3*x+b3*y+c3*z+d3*t, e3)\n",
    "    eq4 = sp.Eq(a4*x+b4*y+c4*z+d4*t, e4)\n",
    "    ans = sp.solve((eq1, eq2, eq3, eq4), (x, y, z, t))\n",
    "    a=round(math.exp(ans[x]),2)\n",
    "    b=round(ans[y],2)\n",
    "    c=round(ans[z],2)\n",
    "    d=round(ans[t],2)\n",
    "    return a,b,c,d"
   ]
  },
  {
   "cell_type": "code",
   "execution_count": 3,
   "id": "million-auditor",
   "metadata": {},
   "outputs": [],
   "source": [
    "Case='General.xlsx' #Full stratiform, Squall line\n",
    "df_Stratiform_Z_ZDR=pd.read_excel(pd.ExcelFile(\"E:/data/QPE/at_stations_PA6/\"+Case),sheet_name='Stratiform_Z_ZDR')\n",
    "df_Convection_Z_ZDR=pd.read_excel(pd.ExcelFile(\"E:/data/QPE/at_stations_PA6/\"+Case),sheet_name='Convection_Z_ZDR')\n",
    "df_Stratiform_KDP=pd.read_excel(pd.ExcelFile(\"E:/data/QPE/at_stations_PA6/\"+Case),sheet_name='Stratiform_Z_ZDR_KDP')\n",
    "df_Convection_KDP=pd.read_excel(pd.ExcelFile(\"E:/data/QPE/at_stations_PA6/\"+Case),sheet_name='Convection_Z_ZDR_KDP')\n",
    "df_Z_noSVM=pd.read_excel(pd.ExcelFile(\"E:/data/QPE/at_stations_PA6/\"+Case),sheet_name='Z')\n",
    "a_S,b_S,c_S=make_formula_2_var(df_Stratiform_Z_ZDR,var1='Z_1500m',var2='ZDR_1500m')\n",
    "a_C,b_C,c_C=make_formula_2_var(df_Convection_Z_ZDR,var1='Z_1500m',var2='ZDR_1500m')\n",
    "aZ_S,bZ_S=make_formula_1_var(df_Stratiform_Z_ZDR,var1='Z_1500m')\n",
    "aZ_C,bZ_C=make_formula_1_var(df_Convection_Z_ZDR,var1='Z_1500m')\n",
    "aKDP_S,bKDP_S=make_formula_1_var(df_Stratiform_KDP,var1='KDP_1500m')\n",
    "aKDP_C,bKDP_C=make_formula_1_var(df_Convection_KDP,var1='KDP_1500m')\n",
    "a_3S,b_3S,c_3S,d_3S=make_formula_3_var(df_Stratiform_KDP,var1='Z_1500m',var2='ZDR_1500m',var3='KDP_1500m')\n",
    "a_3C,b_3C,c_3C,d_3C=make_formula_3_var(df_Convection_KDP,var1='Z_1500m',var2='ZDR_1500m',var3='KDP_1500m')\n",
    "a_Z,b_Z=make_formula_1_var(df_Z_noSVM,var1='Z_1500m')"
   ]
  },
  {
   "cell_type": "code",
   "execution_count": 4,
   "id": "sound-medicine",
   "metadata": {},
   "outputs": [
    {
     "name": "stdout",
     "output_type": "stream",
     "text": [
      "Công thức với 3 biến Z, ZDR và KDP trường hợp General :\n",
      "Hệ số trong công thức mưa Stratiform:\n",
      "a= 2.26 b= 0.21 c= -1.08 d= 0.20\n",
      "Hệ số trong công thức mưa Convection:\n",
      "a= 173.39 b= -0.16 c= -1.90 d= 0.59\n"
     ]
    }
   ],
   "source": [
    "print('Công thức với 3 biến Z, ZDR và KDP trường hợp '+Case[:-5]+' :')\n",
    "print(\"Hệ số trong công thức mưa Stratiform:\")\n",
    "print(\"a=\",a_3S,\"b=\",b_3S,\"c=\",c_3S, \"d=\",d_3S)\n",
    "print(\"Hệ số trong công thức mưa Convection:\")\n",
    "print(\"a=\",a_3C,\"b=\",b_3C,\"c=\",c_3C,\"d=\",d_3C)"
   ]
  },
  {
   "cell_type": "code",
   "execution_count": 5,
   "id": "ignored-interview",
   "metadata": {},
   "outputs": [
    {
     "name": "stdout",
     "output_type": "stream",
     "text": [
      "Công thức với 2 biến Z và ZDR trường hợp General :\n",
      "Hệ số trong công thức mưa Stratiform:\n",
      "a= 1.25 b= 0.24 c= -0.98\n",
      "Hệ số trong công thức mưa Convection:\n",
      "a= 4.17 b= 0.23 c= -1.93\n"
     ]
    }
   ],
   "source": [
    "print('Công thức với 2 biến Z và ZDR trường hợp '+Case[:-5]+' :')\n",
    "print(\"Hệ số trong công thức mưa Stratiform:\")\n",
    "print(\"a=\",a_S,\"b=\",b_S,\"c=\",c_S)\n",
    "print(\"Hệ số trong công thức mưa Convection:\")\n",
    "print(\"a=\",a_C,\"b=\",b_C,\"c=\",c_C)"
   ]
  },
  {
   "cell_type": "code",
   "execution_count": 6,
   "id": "biological-discretion",
   "metadata": {},
   "outputs": [
    {
     "name": "stdout",
     "output_type": "stream",
     "text": [
      "Công thức với 1 biến Z trường hợp General :\n",
      "Hệ số trong công thức mưa Stratiform:\n",
      "a= 1.19 b= 0.20\n",
      "Hệ số trong công thức mưa Convection:\n",
      "a= 3.13 b= 0.18\n"
     ]
    }
   ],
   "source": [
    "print('Công thức với 1 biến Z trường hợp '+Case[:-5]+' :')\n",
    "print(\"Hệ số trong công thức mưa Stratiform:\")\n",
    "print(\"a=\",aZ_S,\"b=\",bZ_S)\n",
    "print(\"Hệ số trong công thức mưa Convection:\")\n",
    "print(\"a=\",aZ_C,\"b=\",bZ_C)"
   ]
  },
  {
   "cell_type": "code",
   "execution_count": 7,
   "id": "legitimate-glucose",
   "metadata": {},
   "outputs": [
    {
     "name": "stdout",
     "output_type": "stream",
     "text": [
      "Công thức với 1 biến KDP trường hợp General :\n",
      "Hệ số trong công thức mưa Stratiform:\n",
      "a= 7.71 b= 0.39\n",
      "Hệ số trong công thức mưa Convection:\n",
      "a= 20.83 b= 0.49\n"
     ]
    }
   ],
   "source": [
    "print('Công thức với 1 biến KDP trường hợp '+Case[:-5]+' :')\n",
    "print(\"Hệ số trong công thức mưa Stratiform:\")\n",
    "print(\"a=\",aKDP_S,\"b=\",bKDP_S)\n",
    "print(\"Hệ số trong công thức mưa Convection:\")\n",
    "print(\"a=\",aKDP_C,\"b=\",bKDP_C)"
   ]
  },
  {
   "cell_type": "code",
   "execution_count": 8,
   "id": "mechanical-laser",
   "metadata": {},
   "outputs": [
    {
     "name": "stdout",
     "output_type": "stream",
     "text": [
      "Công thức với 2 biến Z và ZDR trường hợp General :\n",
      "Hệ số trong công thức mưa chung Z không phân loại:\n",
      "a= 1.06 b= 0.23\n"
     ]
    }
   ],
   "source": [
    "print('Công thức với 2 biến Z và ZDR trường hợp '+Case[:-5]+' :')\n",
    "print(\"Hệ số trong công thức mưa chung Z không phân loại:\")\n",
    "print(\"a=\",a_Z,\"b=\",b_Z)"
   ]
  },
  {
   "cell_type": "code",
   "execution_count": null,
   "id": "sophisticated-vision",
   "metadata": {},
   "outputs": [],
   "source": []
  },
  {
   "cell_type": "code",
   "execution_count": null,
   "id": "excess-error",
   "metadata": {},
   "outputs": [],
   "source": []
  },
  {
   "cell_type": "code",
   "execution_count": null,
   "id": "confident-shannon",
   "metadata": {},
   "outputs": [],
   "source": []
  }
 ],
 "metadata": {
  "kernelspec": {
   "display_name": "Python 3",
   "language": "python",
   "name": "python3"
  },
  "language_info": {
   "codemirror_mode": {
    "name": "ipython",
    "version": 3
   },
   "file_extension": ".py",
   "mimetype": "text/x-python",
   "name": "python",
   "nbconvert_exporter": "python",
   "pygments_lexer": "ipython3",
   "version": "3.7.9"
  }
 },
 "nbformat": 4,
 "nbformat_minor": 5
}
