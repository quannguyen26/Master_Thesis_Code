{
 "cells": [
  {
   "cell_type": "code",
   "execution_count": 1,
   "id": "front-heading",
   "metadata": {},
   "outputs": [
    {
     "name": "stdout",
     "output_type": "stream",
     "text": [
      "\n",
      "## You are using the Python ARM Radar Toolkit (Py-ART), an open source\n",
      "## library for working with weather radar data. Py-ART is partly\n",
      "## supported by the U.S. Department of Energy as part of the Atmospheric\n",
      "## Radiation Measurement (ARM) Climate Research Facility, an Office of\n",
      "## Science user facility.\n",
      "##\n",
      "## If you use this software to prepare a publication, please cite:\n",
      "##\n",
      "##     JJ Helmus and SM Collis, JORS 2016, doi: 10.5334/jors.119\n",
      "\n"
     ]
    },
    {
     "name": "stderr",
     "output_type": "stream",
     "text": [
      "C:\\Users\\Admin\\anaconda3\\envs\\pyart_env\\lib\\site-packages\\wradlib\\io\\radolan.py:939: DeprecationWarning: `np.float` is a deprecated alias for the builtin `float`. To silence this warning, use `float` by itself. Doing this will not modify any behavior and is safe. If you specifically wanted the numpy scalar type, use `np.float64` here.\n",
      "Deprecated in NumPy 1.20; for more details and guidance: https://numpy.org/devdocs/release/1.20.0-notes.html#deprecations\n",
      "  \"add_offset\": np.float(0),\n",
      "C:\\Users\\Admin\\anaconda3\\envs\\pyart_env\\lib\\site-packages\\wradlib\\io\\radolan.py:948: DeprecationWarning: `np.float` is a deprecated alias for the builtin `float`. To silence this warning, use `float` by itself. Doing this will not modify any behavior and is safe. If you specifically wanted the numpy scalar type, use `np.float64` here.\n",
      "Deprecated in NumPy 1.20; for more details and guidance: https://numpy.org/devdocs/release/1.20.0-notes.html#deprecations\n",
      "  \"add_offset\": np.float(0),\n",
      "C:\\Users\\Admin\\anaconda3\\envs\\pyart_env\\lib\\site-packages\\wradlib\\io\\xarray.py:495: DeprecationWarning: `np.int` is a deprecated alias for the builtin `int`. To silence this warning, use `int` by itself. Doing this will not modify any behavior and is safe. When replacing `np.int`, you may wish to use e.g. `np.int64` or `np.int32` to specify the precision. If you wish to review your current use, check the release note link for additional information.\n",
      "Deprecated in NumPy 1.20; for more details and guidance: https://numpy.org/devdocs/release/1.20.0-notes.html#deprecations\n",
      "  (\"volume_number\", np.int),\n"
     ]
    }
   ],
   "source": [
    "import pyart\n",
    "from matplotlib import pyplot as plt\n",
    "import numpy as np\n",
    "%matplotlib inline\n",
    "import warnings\n",
    "warnings.filterwarnings('ignore')"
   ]
  },
  {
   "cell_type": "code",
   "execution_count": 10,
   "id": "photographic-turning",
   "metadata": {},
   "outputs": [
    {
     "data": {
      "text/plain": [
       "1800"
      ]
     },
     "execution_count": 10,
     "metadata": {},
     "output_type": "execute_result"
    }
   ],
   "source": []
  },
  {
   "cell_type": "code",
   "execution_count": 8,
   "id": "lesbian-oakland",
   "metadata": {},
   "outputs": [],
   "source": [
    "C=0.989"
   ]
  },
  {
   "cell_type": "code",
   "execution_count": 9,
   "id": "aquatic-marking",
   "metadata": {},
   "outputs": [
    {
     "data": {
      "text/plain": [
       "masked_array(\n",
       "  data=[[--, -9.990999221801758, -4.051000118255615, ..., --, --, --],\n",
       "        [--, --, --, ..., --, --, --],\n",
       "        [-28.17099952697754, -7.4710001945495605, -1.370999813079834,\n",
       "         ..., --, --, --],\n",
       "        ...,\n",
       "        [--, -17.791000366210938, -12.720999717712402, ..., --, --, --],\n",
       "        [--, -16.33099937438965, -10.990999221801758, ..., --, --, --],\n",
       "        [--, -17.560998916625977, -9.660999298095703, ..., --, --, --]],\n",
       "  mask=[[ True, False, False, ...,  True,  True,  True],\n",
       "        [ True,  True,  True, ...,  True,  True,  True],\n",
       "        [False, False, False, ...,  True,  True,  True],\n",
       "        ...,\n",
       "        [ True, False, False, ...,  True,  True,  True],\n",
       "        [ True, False, False, ...,  True,  True,  True],\n",
       "        [ True, False, False, ...,  True,  True,  True]],\n",
       "  fill_value=1e+20,\n",
       "  dtype=float32)"
      ]
     },
     "execution_count": 9,
     "metadata": {},
     "output_type": "execute_result"
    }
   ],
   "source": [
    "radar.fields['reflectivity']['data']+C"
   ]
  },
  {
   "cell_type": "code",
   "execution_count": 5,
   "id": "capable-supplier",
   "metadata": {},
   "outputs": [],
   "source": [
    "lat_0=radar.latitude['data']"
   ]
  },
  {
   "cell_type": "code",
   "execution_count": 6,
   "id": "excessive-contributor",
   "metadata": {},
   "outputs": [],
   "source": [
    "lon_0=radar.longitude['data']"
   ]
  },
  {
   "cell_type": "code",
   "execution_count": 7,
   "id": "printable-instruction",
   "metadata": {},
   "outputs": [],
   "source": [
    "grid_shape=(13,601,601)"
   ]
  },
  {
   "cell_type": "code",
   "execution_count": 8,
   "id": "fourth-difficulty",
   "metadata": {},
   "outputs": [],
   "source": [
    "grid=pyart.map.grid_from_radars(\n",
    "            radar,\n",
    "            grid_shape=grid_shape, #Number of points in the grid (z, y, x) (12,301,301)\n",
    "            grid_limits=((0, 12000), (-300000, 300000), (-300000, 300000)), # min-max tuong duong z,y,x\n",
    "            grid_origin = (lat_0,lon_0),\n",
    "            fields=['reflectivity'])"
   ]
  },
  {
   "cell_type": "code",
   "execution_count": 9,
   "id": "alpha-destination",
   "metadata": {},
   "outputs": [
    {
     "data": {
      "text/plain": [
       "array([-300000., -299000., -298000., -297000., -296000., -295000.,\n",
       "       -294000., -293000., -292000., -291000., -290000., -289000.,\n",
       "       -288000., -287000., -286000., -285000., -284000., -283000.,\n",
       "       -282000., -281000., -280000., -279000., -278000., -277000.,\n",
       "       -276000., -275000., -274000., -273000., -272000., -271000.,\n",
       "       -270000., -269000., -268000., -267000., -266000., -265000.,\n",
       "       -264000., -263000., -262000., -261000., -260000., -259000.,\n",
       "       -258000., -257000., -256000., -255000., -254000., -253000.,\n",
       "       -252000., -251000., -250000., -249000., -248000., -247000.,\n",
       "       -246000., -245000., -244000., -243000., -242000., -241000.,\n",
       "       -240000., -239000., -238000., -237000., -236000., -235000.,\n",
       "       -234000., -233000., -232000., -231000., -230000., -229000.,\n",
       "       -228000., -227000., -226000., -225000., -224000., -223000.,\n",
       "       -222000., -221000., -220000., -219000., -218000., -217000.,\n",
       "       -216000., -215000., -214000., -213000., -212000., -211000.,\n",
       "       -210000., -209000., -208000., -207000., -206000., -205000.,\n",
       "       -204000., -203000., -202000., -201000., -200000., -199000.,\n",
       "       -198000., -197000., -196000., -195000., -194000., -193000.,\n",
       "       -192000., -191000., -190000., -189000., -188000., -187000.,\n",
       "       -186000., -185000., -184000., -183000., -182000., -181000.,\n",
       "       -180000., -179000., -178000., -177000., -176000., -175000.,\n",
       "       -174000., -173000., -172000., -171000., -170000., -169000.,\n",
       "       -168000., -167000., -166000., -165000., -164000., -163000.,\n",
       "       -162000., -161000., -160000., -159000., -158000., -157000.,\n",
       "       -156000., -155000., -154000., -153000., -152000., -151000.,\n",
       "       -150000., -149000., -148000., -147000., -146000., -145000.,\n",
       "       -144000., -143000., -142000., -141000., -140000., -139000.,\n",
       "       -138000., -137000., -136000., -135000., -134000., -133000.,\n",
       "       -132000., -131000., -130000., -129000., -128000., -127000.,\n",
       "       -126000., -125000., -124000., -123000., -122000., -121000.,\n",
       "       -120000., -119000., -118000., -117000., -116000., -115000.,\n",
       "       -114000., -113000., -112000., -111000., -110000., -109000.,\n",
       "       -108000., -107000., -106000., -105000., -104000., -103000.,\n",
       "       -102000., -101000., -100000.,  -99000.,  -98000.,  -97000.,\n",
       "        -96000.,  -95000.,  -94000.,  -93000.,  -92000.,  -91000.,\n",
       "        -90000.,  -89000.,  -88000.,  -87000.,  -86000.,  -85000.,\n",
       "        -84000.,  -83000.,  -82000.,  -81000.,  -80000.,  -79000.,\n",
       "        -78000.,  -77000.,  -76000.,  -75000.,  -74000.,  -73000.,\n",
       "        -72000.,  -71000.,  -70000.,  -69000.,  -68000.,  -67000.,\n",
       "        -66000.,  -65000.,  -64000.,  -63000.,  -62000.,  -61000.,\n",
       "        -60000.,  -59000.,  -58000.,  -57000.,  -56000.,  -55000.,\n",
       "        -54000.,  -53000.,  -52000.,  -51000.,  -50000.,  -49000.,\n",
       "        -48000.,  -47000.,  -46000.,  -45000.,  -44000.,  -43000.,\n",
       "        -42000.,  -41000.,  -40000.,  -39000.,  -38000.,  -37000.,\n",
       "        -36000.,  -35000.,  -34000.,  -33000.,  -32000.,  -31000.,\n",
       "        -30000.,  -29000.,  -28000.,  -27000.,  -26000.,  -25000.,\n",
       "        -24000.,  -23000.,  -22000.,  -21000.,  -20000.,  -19000.,\n",
       "        -18000.,  -17000.,  -16000.,  -15000.,  -14000.,  -13000.,\n",
       "        -12000.,  -11000.,  -10000.,   -9000.,   -8000.,   -7000.,\n",
       "         -6000.,   -5000.,   -4000.,   -3000.,   -2000.,   -1000.,\n",
       "             0.,    1000.,    2000.,    3000.,    4000.,    5000.,\n",
       "          6000.,    7000.,    8000.,    9000.,   10000.,   11000.,\n",
       "         12000.,   13000.,   14000.,   15000.,   16000.,   17000.,\n",
       "         18000.,   19000.,   20000.,   21000.,   22000.,   23000.,\n",
       "         24000.,   25000.,   26000.,   27000.,   28000.,   29000.,\n",
       "         30000.,   31000.,   32000.,   33000.,   34000.,   35000.,\n",
       "         36000.,   37000.,   38000.,   39000.,   40000.,   41000.,\n",
       "         42000.,   43000.,   44000.,   45000.,   46000.,   47000.,\n",
       "         48000.,   49000.,   50000.,   51000.,   52000.,   53000.,\n",
       "         54000.,   55000.,   56000.,   57000.,   58000.,   59000.,\n",
       "         60000.,   61000.,   62000.,   63000.,   64000.,   65000.,\n",
       "         66000.,   67000.,   68000.,   69000.,   70000.,   71000.,\n",
       "         72000.,   73000.,   74000.,   75000.,   76000.,   77000.,\n",
       "         78000.,   79000.,   80000.,   81000.,   82000.,   83000.,\n",
       "         84000.,   85000.,   86000.,   87000.,   88000.,   89000.,\n",
       "         90000.,   91000.,   92000.,   93000.,   94000.,   95000.,\n",
       "         96000.,   97000.,   98000.,   99000.,  100000.,  101000.,\n",
       "        102000.,  103000.,  104000.,  105000.,  106000.,  107000.,\n",
       "        108000.,  109000.,  110000.,  111000.,  112000.,  113000.,\n",
       "        114000.,  115000.,  116000.,  117000.,  118000.,  119000.,\n",
       "        120000.,  121000.,  122000.,  123000.,  124000.,  125000.,\n",
       "        126000.,  127000.,  128000.,  129000.,  130000.,  131000.,\n",
       "        132000.,  133000.,  134000.,  135000.,  136000.,  137000.,\n",
       "        138000.,  139000.,  140000.,  141000.,  142000.,  143000.,\n",
       "        144000.,  145000.,  146000.,  147000.,  148000.,  149000.,\n",
       "        150000.,  151000.,  152000.,  153000.,  154000.,  155000.,\n",
       "        156000.,  157000.,  158000.,  159000.,  160000.,  161000.,\n",
       "        162000.,  163000.,  164000.,  165000.,  166000.,  167000.,\n",
       "        168000.,  169000.,  170000.,  171000.,  172000.,  173000.,\n",
       "        174000.,  175000.,  176000.,  177000.,  178000.,  179000.,\n",
       "        180000.,  181000.,  182000.,  183000.,  184000.,  185000.,\n",
       "        186000.,  187000.,  188000.,  189000.,  190000.,  191000.,\n",
       "        192000.,  193000.,  194000.,  195000.,  196000.,  197000.,\n",
       "        198000.,  199000.,  200000.,  201000.,  202000.,  203000.,\n",
       "        204000.,  205000.,  206000.,  207000.,  208000.,  209000.,\n",
       "        210000.,  211000.,  212000.,  213000.,  214000.,  215000.,\n",
       "        216000.,  217000.,  218000.,  219000.,  220000.,  221000.,\n",
       "        222000.,  223000.,  224000.,  225000.,  226000.,  227000.,\n",
       "        228000.,  229000.,  230000.,  231000.,  232000.,  233000.,\n",
       "        234000.,  235000.,  236000.,  237000.,  238000.,  239000.,\n",
       "        240000.,  241000.,  242000.,  243000.,  244000.,  245000.,\n",
       "        246000.,  247000.,  248000.,  249000.,  250000.,  251000.,\n",
       "        252000.,  253000.,  254000.,  255000.,  256000.,  257000.,\n",
       "        258000.,  259000.,  260000.,  261000.,  262000.,  263000.,\n",
       "        264000.,  265000.,  266000.,  267000.,  268000.,  269000.,\n",
       "        270000.,  271000.,  272000.,  273000.,  274000.,  275000.,\n",
       "        276000.,  277000.,  278000.,  279000.,  280000.,  281000.,\n",
       "        282000.,  283000.,  284000.,  285000.,  286000.,  287000.,\n",
       "        288000.,  289000.,  290000.,  291000.,  292000.,  293000.,\n",
       "        294000.,  295000.,  296000.,  297000.,  298000.,  299000.,\n",
       "        300000.])"
      ]
     },
     "execution_count": 9,
     "metadata": {},
     "output_type": "execute_result"
    }
   ],
   "source": [
    "grid.x['data']"
   ]
  },
  {
   "cell_type": "code",
   "execution_count": 10,
   "id": "constant-sucking",
   "metadata": {},
   "outputs": [],
   "source": [
    "for i in range(grid_shape[1]):\n",
    "    geog = pyart.core.cartesian_to_geographic_aeqd(grid.x[\"data\"][i],grid.y[\"data\"][i],lon_0,lat_0, R=6370997.0)\n",
    "    grid.x[\"data\"][i] = geog[0]\n",
    "    grid.y[\"data\"][i] = geog[1]"
   ]
  },
  {
   "cell_type": "code",
   "execution_count": 11,
   "id": "chubby-reputation",
   "metadata": {},
   "outputs": [
    {
     "data": {
      "text/plain": [
       "dict_keys(['reflectivity', 'ROI'])"
      ]
     },
     "execution_count": 11,
     "metadata": {},
     "output_type": "execute_result"
    }
   ],
   "source": [
    "grid.fields.keys()"
   ]
  },
  {
   "cell_type": "code",
   "execution_count": 12,
   "id": "smoking-afternoon",
   "metadata": {},
   "outputs": [
    {
     "data": {
      "text/plain": [
       "array([    0.,  1000.,  2000.,  3000.,  4000.,  5000.,  6000.,  7000.,\n",
       "        8000.,  9000., 10000., 11000., 12000.])"
      ]
     },
     "execution_count": 12,
     "metadata": {},
     "output_type": "execute_result"
    }
   ],
   "source": [
    "grid.z['data']"
   ]
  },
  {
   "cell_type": "code",
   "execution_count": 13,
   "id": "equal-composite",
   "metadata": {},
   "outputs": [],
   "source": [
    "Z_3km_dBZ=grid.fields['reflectivity']['data'][3]"
   ]
  },
  {
   "cell_type": "code",
   "execution_count": 24,
   "id": "adverse-ozone",
   "metadata": {},
   "outputs": [],
   "source": [
    "from wradlib.trafo import idecibel,r_to_depth"
   ]
  },
  {
   "cell_type": "code",
   "execution_count": 25,
   "id": "moving-combination",
   "metadata": {},
   "outputs": [],
   "source": [
    "Z_3km_mm6m3=idecibel(Z_3km_dBZ)"
   ]
  },
  {
   "cell_type": "code",
   "execution_count": 26,
   "id": "needed-buyer",
   "metadata": {
    "scrolled": true
   },
   "outputs": [
    {
     "data": {
      "text/plain": [
       "masked_array(\n",
       "  data=[[--, --, --, ..., --, --, --],\n",
       "        [--, --, --, ..., --, --, --],\n",
       "        [--, --, --, ..., --, --, --],\n",
       "        ...,\n",
       "        [--, --, --, ..., --, --, --],\n",
       "        [--, --, --, ..., --, --, --],\n",
       "        [--, --, --, ..., --, --, --]],\n",
       "  mask=[[ True,  True,  True, ...,  True,  True,  True],\n",
       "        [ True,  True,  True, ...,  True,  True,  True],\n",
       "        [ True,  True,  True, ...,  True,  True,  True],\n",
       "        ...,\n",
       "        [ True,  True,  True, ...,  True,  True,  True],\n",
       "        [ True,  True,  True, ...,  True,  True,  True],\n",
       "        [ True,  True,  True, ...,  True,  True,  True]],\n",
       "  fill_value=1e+20,\n",
       "  dtype=float32)"
      ]
     },
     "execution_count": 26,
     "metadata": {},
     "output_type": "execute_result"
    }
   ],
   "source": [
    "Z_3km_mm6m3"
   ]
  },
  {
   "cell_type": "code",
   "execution_count": 27,
   "id": "million-woman",
   "metadata": {},
   "outputs": [],
   "source": [
    "from wradlib.zr import  z_to_r"
   ]
  },
  {
   "cell_type": "code",
   "execution_count": 28,
   "id": "compact-tragedy",
   "metadata": {},
   "outputs": [],
   "source": [
    "R_3km=z_to_r(Z_3km_mm6m3)"
   ]
  },
  {
   "cell_type": "code",
   "execution_count": 29,
   "id": "direct-conservative",
   "metadata": {},
   "outputs": [
    {
     "data": {
      "text/plain": [
       "masked_array(\n",
       "  data=[[--, --, --, ..., --, --, --],\n",
       "        [--, --, --, ..., --, --, --],\n",
       "        [--, --, --, ..., --, --, --],\n",
       "        ...,\n",
       "        [--, --, --, ..., --, --, --],\n",
       "        [--, --, --, ..., --, --, --],\n",
       "        [--, --, --, ..., --, --, --]],\n",
       "  mask=[[ True,  True,  True, ...,  True,  True,  True],\n",
       "        [ True,  True,  True, ...,  True,  True,  True],\n",
       "        [ True,  True,  True, ...,  True,  True,  True],\n",
       "        ...,\n",
       "        [ True,  True,  True, ...,  True,  True,  True],\n",
       "        [ True,  True,  True, ...,  True,  True,  True],\n",
       "        [ True,  True,  True, ...,  True,  True,  True]],\n",
       "  fill_value=1e+20,\n",
       "  dtype=float32)"
      ]
     },
     "execution_count": 29,
     "metadata": {},
     "output_type": "execute_result"
    }
   ],
   "source": [
    "R_3km"
   ]
  },
  {
   "cell_type": "code",
   "execution_count": 30,
   "id": "attractive-rebecca",
   "metadata": {},
   "outputs": [],
   "source": [
    "R_CAPPI_3km=r_to_depth(R_3km,600)"
   ]
  },
  {
   "cell_type": "code",
   "execution_count": 33,
   "id": "german-forward",
   "metadata": {},
   "outputs": [
    {
     "data": {
      "text/plain": [
       "masked_array(\n",
       "  data=[[--, --, --, ..., --, --, --],\n",
       "        [--, --, --, ..., --, --, --],\n",
       "        [--, --, --, ..., --, --, --],\n",
       "        ...,\n",
       "        [--, --, --, ..., --, --, --],\n",
       "        [--, --, --, ..., --, --, --],\n",
       "        [--, --, --, ..., --, --, --]],\n",
       "  mask=[[ True,  True,  True, ...,  True,  True,  True],\n",
       "        [ True,  True,  True, ...,  True,  True,  True],\n",
       "        [ True,  True,  True, ...,  True,  True,  True],\n",
       "        ...,\n",
       "        [ True,  True,  True, ...,  True,  True,  True],\n",
       "        [ True,  True,  True, ...,  True,  True,  True],\n",
       "        [ True,  True,  True, ...,  True,  True,  True]],\n",
       "  fill_value=1e+20,\n",
       "  dtype=float32)"
      ]
     },
     "execution_count": 33,
     "metadata": {},
     "output_type": "execute_result"
    }
   ],
   "source": [
    "R_CAPPI_3km"
   ]
  },
  {
   "cell_type": "code",
   "execution_count": 31,
   "id": "parliamentary-stopping",
   "metadata": {},
   "outputs": [],
   "source": [
    "import pylab as pl"
   ]
  },
  {
   "cell_type": "code",
   "execution_count": 32,
   "id": "stunning-balloon",
   "metadata": {},
   "outputs": [
    {
     "data": {
      "text/plain": [
       "<matplotlib.colorbar.Colorbar at 0x1a12fe449c8>"
      ]
     },
     "execution_count": 32,
     "metadata": {},
     "output_type": "execute_result"
    },
    {
     "data": {
      "image/png": "[encoded data removed]",
      "text/plain": [
       "<Figure size 864x720 with 2 Axes>"
      ]
     },
     "metadata": {
      "needs_background": "light"
     },
     "output_type": "display_data"
    }
   ],
   "source": [
    "fig = pl.figure(figsize=(12,10))\n",
    "ax = pl.subplot(111, aspect=\"equal\")\n",
    "pm = pl.pcolormesh(grid.x['data'], grid.y['data'],R_3km)\n",
    "pl.colorbar(pm, shrink=0.75)"
   ]
  },
  {
   "cell_type": "code",
   "execution_count": 22,
   "id": "tutorial-tyler",
   "metadata": {},
   "outputs": [
    {
     "data": {
      "text/plain": [
       "array([ 28.,  28.,  28., ..., 147., 147., 147.])"
      ]
     },
     "execution_count": 22,
     "metadata": {},
     "output_type": "execute_result"
    }
   ],
   "source": [
    "radar.time['data']"
   ]
  },
  {
   "cell_type": "code",
   "execution_count": null,
   "id": "jewish-glossary",
   "metadata": {},
   "outputs": [],
   "source": []
  }
 ],
 "metadata": {
  "kernelspec": {
   "display_name": "Python 3",
   "language": "python",
   "name": "python3"
  },
  "language_info": {
   "codemirror_mode": {
    "name": "ipython",
    "version": 3
   },
   "file_extension": ".py",
   "mimetype": "text/x-python",
   "name": "python",
   "nbconvert_exporter": "python",
   "pygments_lexer": "ipython3",
   "version": "3.7.9"
  }
 },
 "nbformat": 4,
 "nbformat_minor": 5
}
