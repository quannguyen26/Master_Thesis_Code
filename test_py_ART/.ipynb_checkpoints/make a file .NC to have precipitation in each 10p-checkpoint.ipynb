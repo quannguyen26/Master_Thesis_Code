{
 "cells": [
  {
   "cell_type": "code",
   "execution_count": 1,
   "id": "israeli-condition",
   "metadata": {},
   "outputs": [
    {
     "name": "stdout",
     "output_type": "stream",
     "text": [
      "\n",
      "## You are using the Python ARM Radar Toolkit (Py-ART), an open source\n",
      "## library for working with weather radar data. Py-ART is partly\n",
      "## supported by the U.S. Department of Energy as part of the Atmospheric\n",
      "## Radiation Measurement (ARM) Climate Research Facility, an Office of\n",
      "## Science user facility.\n",
      "##\n",
      "## If you use this software to prepare a publication, please cite:\n",
      "##\n",
      "##     JJ Helmus and SM Collis, JORS 2016, doi: 10.5334/jors.119\n",
      "\n"
     ]
    },
    {
     "name": "stderr",
     "output_type": "stream",
     "text": [
      "C:\\Users\\Admin\\anaconda3\\envs\\pyart_env\\lib\\site-packages\\wradlib\\io\\radolan.py:939: DeprecationWarning: `np.float` is a deprecated alias for the builtin `float`. To silence this warning, use `float` by itself. Doing this will not modify any behavior and is safe. If you specifically wanted the numpy scalar type, use `np.float64` here.\n",
      "Deprecated in NumPy 1.20; for more details and guidance: https://numpy.org/devdocs/release/1.20.0-notes.html#deprecations\n",
      "  \"add_offset\": np.float(0),\n",
      "C:\\Users\\Admin\\anaconda3\\envs\\pyart_env\\lib\\site-packages\\wradlib\\io\\radolan.py:948: DeprecationWarning: `np.float` is a deprecated alias for the builtin `float`. To silence this warning, use `float` by itself. Doing this will not modify any behavior and is safe. If you specifically wanted the numpy scalar type, use `np.float64` here.\n",
      "Deprecated in NumPy 1.20; for more details and guidance: https://numpy.org/devdocs/release/1.20.0-notes.html#deprecations\n",
      "  \"add_offset\": np.float(0),\n",
      "C:\\Users\\Admin\\anaconda3\\envs\\pyart_env\\lib\\site-packages\\wradlib\\io\\xarray.py:495: DeprecationWarning: `np.int` is a deprecated alias for the builtin `int`. To silence this warning, use `int` by itself. Doing this will not modify any behavior and is safe. When replacing `np.int`, you may wish to use e.g. `np.int64` or `np.int32` to specify the precision. If you wish to review your current use, check the release note link for additional information.\n",
      "Deprecated in NumPy 1.20; for more details and guidance: https://numpy.org/devdocs/release/1.20.0-notes.html#deprecations\n",
      "  (\"volume_number\", np.int),\n"
     ]
    }
   ],
   "source": [
    "import pyart\n",
    "from matplotlib import pyplot as plt\n",
    "import numpy as np\n",
    "import numpy.ma as ma\n",
    "from numpy import dtype\n",
    "import os\n",
    "from netCDF4 import Dataset,date2num,num2date\n",
    "import metpy.calc\n",
    "from metpy.units import units\n",
    "import warnings\n",
    "warnings.filterwarnings('ignore')\n",
    "from wradlib.trafo import r_to_depth\n",
    "import datetime as dt\n",
    "import pandas as pd\n",
    "from datetime import datetime"
   ]
  },
  {
   "cell_type": "code",
   "execution_count": 2,
   "id": "unlimited-wellington",
   "metadata": {},
   "outputs": [],
   "source": [
    "linkRAW=\"C:/Users/Admin/Desktop/test_py_WRADLIB/\"\n",
    "linkOUT=\"C:/Users/Admin/Desktop/test_py_WRADLIB/\""
   ]
  },
  {
   "cell_type": "code",
   "execution_count": 3,
   "id": "awful-lawsuit",
   "metadata": {},
   "outputs": [],
   "source": [
    "class UF:\n",
    "    def __init__(self,radar,shape_grid,lat_0, lon_0):\n",
    "        self.radar = radar\n",
    "        self.shape_grid = shape_grid\n",
    "        self.lat_0 = lat_0\n",
    "        self.lon_0 = lon_0\n",
    "    def calculate_attenuation_zphi(self):\n",
    "        fixed_fzl=3000\n",
    "        spec_at, pia_dict, cor_z, spec_diff_at, pida_dict, cor_zdr= pyart.correct.calculate_attenuation_zphi(\n",
    "            self.radar,\n",
    "            refl_field='reflectivity', \n",
    "            phidp_field= 'differential_phase',\n",
    "            zdr_field='differential_reflectivity',\n",
    "            temp_ref='fixed_fzl')\n",
    "        return cor_z\n",
    "    def convert_grid(self):\n",
    "        grid = pyart.map.grid_from_radars(\n",
    "            self.radar,\n",
    "            grid_shape=self.shape_grid, #Number of points in the grid (z, y, x)\n",
    "            grid_limits=((0, 12000), (-300000, 300000), (-300000, 300000)), # min-max tuong duong z,y,x\n",
    "            grid_origin = (self.lat_0, self.lon_0),\n",
    "            fields=['rain_R_Z'])\n",
    "        return grid\n",
    "    def convert_lat_lon(self, grid):\n",
    "        for i in range(self.shape_grid[1]):\n",
    "            geog = pyart.core.cartesian_to_geographic_aeqd(grid.x[\"data\"][i],grid.y[\"data\"][i],self.lon_0, self.lat_0, R=6370997.0)\n",
    "            grid.x[\"data\"][i] = geog[0]\n",
    "            grid.y[\"data\"][i] = geog[1]\n",
    "        return grid"
   ]
  },
  {
   "cell_type": "code",
   "execution_count": 4,
   "id": "soviet-yukon",
   "metadata": {},
   "outputs": [],
   "source": [
    "def main(filein,shape_grid):\n",
    "    radar = pyart.io.read_sigmet(filein)\n",
    "    radar=radar.extract_sweeps([0]) # axtract sweep 0,5\n",
    "    time_unit=radar.time['units']\n",
    "    lat_0 = radar.latitude['data'][0]\n",
    "    lon_0 = radar.longitude['data'][0]\n",
    "    rain_R_Z=pyart.retrieve.est_rain_rate_z(radar,alpha=0.0376, beta=0.6112,refl_field='reflectivity')\n",
    "    rain_R_Z_mm=r_to_depth(rain_R_Z['data'],600)\n",
    "    rain_R_Z['data']=rain_R_Z_mm\n",
    "    rain_R_Z['units']='mm'\n",
    "    radar.add_field('rain_R_Z', rain_R_Z)\n",
    "    UF_File = UF(radar, shape_grid, lat_0, lon_0)\n",
    "    grid = UF_File.convert_grid()\n",
    "    grid = UF_File.convert_lat_lon(grid)\n",
    "    return grid,time_unit"
   ]
  },
  {
   "cell_type": "code",
   "execution_count": 5,
   "id": "korean-boundary",
   "metadata": {},
   "outputs": [
    {
     "name": "stdout",
     "output_type": "stream",
     "text": [
      "C:/Users/Admin/Desktop/test_py_WRADLIB/PHA210207121004.RAWSB6V\n",
      "C:/Users/Admin/Desktop/test_py_WRADLIB/PHA210207122004.RAWSB6X\n",
      "C:/Users/Admin/Desktop/test_py_WRADLIB/PHA210207123004.RAWSB6Z\n",
      "C:/Users/Admin/Desktop/test_py_WRADLIB/PHA210207124005.RAWSB71\n",
      "C:/Users/Admin/Desktop/test_py_WRADLIB/PHA210207125004.RAWSB73\n",
      "C:/Users/Admin/Desktop/test_py_WRADLIB/PHA210207130004.RAWSB75\n"
     ]
    }
   ],
   "source": [
    "shape_grid=(1,601,601)\n",
    "pre_Z_R=np.zeros(shape_grid)\n",
    "interval_time=[]\n",
    "for name in os.listdir(linkRAW):\n",
    "    filein = linkRAW + name\n",
    "    grid,time_unit=main(filein,shape_grid)\n",
    "    grid_pre=grid.fields['rain_R_Z']['data'] \n",
    "    pre_Z_R=np.append(pre_Z_R,grid_pre,axis=0)\n",
    "    interval_time.append(time_unit)\n",
    "    print(filein)"
   ]
  },
  {
   "cell_type": "code",
   "execution_count": 6,
   "id": "growing-scanning",
   "metadata": {},
   "outputs": [],
   "source": [
    "times_values=[]\n",
    "for time in interval_time:\n",
    "    format_string_time = \"%Y-%m-%dT%H:%M\"\n",
    "    ti=time[14:-4]\n",
    "    format_time=datetime.strptime(ti, format_string_time)\n",
    "    times_values.append(format_time)"
   ]
  },
  {
   "cell_type": "code",
   "execution_count": 11,
   "id": "alive-damages",
   "metadata": {},
   "outputs": [
    {
     "data": {
      "text/plain": [
       "array([116289370, 116289380, 116289390, 116289400, 116289410, 116289420],\n",
       "      dtype=int64)"
      ]
     },
     "execution_count": 11,
     "metadata": {},
     "output_type": "execute_result"
    }
   ],
   "source": [
    "since_time='minutes since 1800-01-01-00-00'\n",
    "time = date2num(times_values, since_time)"
   ]
  },
  {
   "cell_type": "code",
   "execution_count": 12,
   "id": "negative-volleyball",
   "metadata": {},
   "outputs": [
    {
     "data": {
      "text/plain": [
       "(5, 601, 601)"
      ]
     },
     "execution_count": 12,
     "metadata": {},
     "output_type": "execute_result"
    }
   ],
   "source": [
    "pre_Z_R=pre_Z_R[1:,:,:]\n",
    "pre_Z_R=ma.masked_equal(pre_Z_R,0)\n",
    "pre_Z_R.shape"
   ]
  },
  {
   "cell_type": "code",
   "execution_count": 15,
   "id": "eligible-pharmaceutical",
   "metadata": {},
   "outputs": [],
   "source": [
    "fileout=name[0:13]\n",
    "def create_nc(fileout, grid, pre_Z_R,times_values):\n",
    "    file = Dataset(fileout+ \".nc\",'w')\n",
    "    file.title = \"Netcdf radar file - Made by PYTHON\"\n",
    "    file.createDimension('longitude',601)\n",
    "    file.createDimension('latitude',601)\n",
    "    file.createDimension('time',None)\n",
    "    times = file.createVariable('time',dtype('i8').char,('time',))\n",
    "    lons = file.createVariable('longitude',dtype('f4').char,('longitude',))\n",
    "    lats = file.createVariable('latitude',dtype('f4').char,('latitude',))\n",
    "    lats.units = 'degrees_north'\n",
    "    lats.standard_name = \"Latitude\"\n",
    "    lats.long_name = \"Latitude\"\n",
    "    lats.axis = \"Y\"\n",
    "    lons.standard_name = \"Longitude\"\n",
    "    lons.long_name = \"Longitude\"\n",
    "    lons.axis = \"X\"\n",
    "    lons.units = 'degrees_east'\n",
    "    times.units = times.units = \"minutes since 0001-01-01 00:00\"\n",
    "    times.calendar = \"gregorian\"\n",
    "    times.standard_name = \"time\"\n",
    "    times.axis = \"T\"\n",
    "    lons[:] = grid.x[\"data\"]\n",
    "    lats[:] = grid.y[\"data\"]\n",
    "    times[:] =date2num(times_values,units=times.units,calendar=times.calendar)\n",
    "    ref = file.createVariable('precipitation',dtype('f4').char,('time','latitude','longitude'))\n",
    "    ref.units = 'mm'\n",
    "    ref[:] =pre_Z_R\n",
    "    file.close()"
   ]
  },
  {
   "cell_type": "code",
   "execution_count": 16,
   "id": "angry-military",
   "metadata": {},
   "outputs": [],
   "source": [
    "a=create_nc(fileout, grid, pre_Z_R, time_unit,times_values)"
   ]
  },
  {
   "cell_type": "code",
   "execution_count": null,
   "id": "administrative-channels",
   "metadata": {},
   "outputs": [],
   "source": []
  },
  {
   "cell_type": "code",
   "execution_count": null,
   "id": "patent-oakland",
   "metadata": {},
   "outputs": [],
   "source": []
  }
 ],
 "metadata": {
  "kernelspec": {
   "display_name": "Python 3",
   "language": "python",
   "name": "python3"
  },
  "language_info": {
   "codemirror_mode": {
    "name": "ipython",
    "version": 3
   },
   "file_extension": ".py",
   "mimetype": "text/x-python",
   "name": "python",
   "nbconvert_exporter": "python",
   "pygments_lexer": "ipython3",
   "version": "3.7.9"
  }
 },
 "nbformat": 4,
 "nbformat_minor": 5
}
