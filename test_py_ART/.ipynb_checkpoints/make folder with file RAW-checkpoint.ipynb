{
 "cells": [
  {
   "cell_type": "code",
   "execution_count": 3,
   "id": "balanced-brain",
   "metadata": {},
   "outputs": [],
   "source": [
    "import os\n",
    "import shutil"
   ]
  },
  {
   "cell_type": "code",
   "execution_count": 24,
   "id": "regulated-ceramic",
   "metadata": {},
   "outputs": [],
   "source": [
    "linkRAW=\"D:/Đợt mưa 2021/Đợt 1/radar/07022021/radar/07.02.2021/\""
   ]
  },
  {
   "cell_type": "code",
   "execution_count": 25,
   "id": "cleared-citizen",
   "metadata": {},
   "outputs": [],
   "source": [
    "for name in os.listdir(linkUF):\n",
    "    if name[12:14]=='00':\n",
    "        newPath = shutil.copy(linkRAW+name,\"C:/Users/Admin/Desktop/test_py_WRADLIB\")"
   ]
  },
  {
   "cell_type": "code",
   "execution_count": 20,
   "id": "every-factor",
   "metadata": {},
   "outputs": [],
   "source": []
  },
  {
   "cell_type": "code",
   "execution_count": null,
   "id": "governing-hardware",
   "metadata": {},
   "outputs": [],
   "source": []
  }
 ],
 "metadata": {
  "kernelspec": {
   "display_name": "Python 3",
   "language": "python",
   "name": "python3"
  },
  "language_info": {
   "codemirror_mode": {
    "name": "ipython",
    "version": 3
   },
   "file_extension": ".py",
   "mimetype": "text/x-python",
   "name": "python",
   "nbconvert_exporter": "python",
   "pygments_lexer": "ipython3",
   "version": "3.7.9"
  }
 },
 "nbformat": 4,
 "nbformat_minor": 5
}
