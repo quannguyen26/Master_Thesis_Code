{
 "cells": [
  {
   "cell_type": "code",
   "execution_count": 3,
   "id": "israeli-condition",
   "metadata": {},
   "outputs": [],
   "source": [
    "import pyart\n",
    "from matplotlib import pyplot as plt\n",
    "import numpy as np\n",
    "import numpy.ma as ma\n",
    "from numpy import dtype\n",
    "import os\n",
    "from netCDF4 import Dataset,date2num,num2date\n",
    "import metpy.calc\n",
    "from metpy.units import units\n",
    "import warnings\n",
    "warnings.filterwarnings('ignore')\n",
    "from wradlib.trafo import r_to_depth\n",
    "import datetime as dt\n",
    "import pandas as pd\n",
    "from datetime import datetime\n",
    "from scipy.stats import mstats\n",
    "import numpy.ma as ma"
   ]
  },
  {
   "cell_type": "code",
   "execution_count": 4,
   "id": "unlimited-wellington",
   "metadata": {},
   "outputs": [],
   "source": [
    "linkRAW=\"C:/Users/Admin/Desktop/test_py_WRADLIB/\"\n",
    "linkOUT=\"C:/Users/Admin/Desktop/test_py_WRADLIB/\""
   ]
  },
  {
   "cell_type": "code",
   "execution_count": 5,
   "id": "awful-lawsuit",
   "metadata": {},
   "outputs": [],
   "source": [
    "class UF:\n",
    "    def __init__(self,radar,shape_grid,lat_0, lon_0):\n",
    "        self.radar = radar\n",
    "        self.shape_grid = shape_grid\n",
    "        self.lat_0 = lat_0\n",
    "        self.lon_0 = lon_0\n",
    "    def calculate_attenuation_zphi(self):\n",
    "        fixed_fzl=3000\n",
    "        spec_at, pia_dict, cor_z, spec_diff_at, pida_dict, cor_zdr= pyart.correct.calculate_attenuation_zphi(\n",
    "            self.radar,\n",
    "            refl_field='reflectivity', \n",
    "            phidp_field= 'differential_phase',\n",
    "            zdr_field='differential_reflectivity',\n",
    "            temp_ref='fixed_fzl')\n",
    "        return cor_z\n",
    "    def noise_rejection(self):\n",
    "        range_bins=self.radar.range['data']\n",
    "        ref_last_bins=self.radar.fields['reflectivity']['data'][:,-5:]\n",
    "        Z_f=mstats.mode(ref_last_bins,axis=None)[0][0]\n",
    "        Z_s=pyart.retrieve.compute_noisedBZ(360, noisedBZ_val=Z_f, _range=range_bins, ref_dist=300., noise_field='noise_dbz')\n",
    "        Z_splus4=Z_s['data']+4\n",
    "        conditions_masked=ma.masked_less(self.radar.fields['reflectivity']['data'],Z_splus4)\n",
    "        self.radar.add_field_like('reflectivity', 'reflectivity_cor_noise',conditions_masked,replace_existing=True)\n",
    "    def convert_grid(self):\n",
    "        grid = pyart.map.grid_from_radars(\n",
    "            self.radar,\n",
    "            grid_shape=self.shape_grid, #Number of points in the grid (z, y, x)\n",
    "            grid_limits=((0, 12000), (-300000, 300000), (-300000, 300000)), # min-max tuong duong z,y,x\n",
    "            grid_origin = (self.lat_0, self.lon_0),\n",
    "            fields=['rain_R_Z'])\n",
    "        return grid\n",
    "    def convert_lat_lon(self, grid):\n",
    "        for i in range(self.shape_grid[1]):\n",
    "            geog = pyart.core.cartesian_to_geographic_aeqd(grid.x[\"data\"][i],grid.y[\"data\"][i],self.lon_0, self.lat_0, R=6370997.0)\n",
    "            grid.x[\"data\"][i] = geog[0]\n",
    "            grid.y[\"data\"][i] = geog[1]\n",
    "        return grid\n",
    "    def convert_Z_to_R(self):\n",
    "        rain_R_Z=pyart.retrieve.est_rain_rate_z(self.radar,alpha=0.0376, beta=0.6112,refl_field='reflectivity_cor_noise')\n",
    "        rain_R_Z_mm=r_to_depth(rain_R_Z['data'],600)\n",
    "        rain_R_Z['data']=rain_R_Z_mm\n",
    "        rain_R_Z['units']='mm'\n",
    "        self.radar.add_field('rain_R_Z', rain_R_Z)"
   ]
  },
  {
   "cell_type": "code",
   "execution_count": 6,
   "id": "soviet-yukon",
   "metadata": {},
   "outputs": [],
   "source": [
    "def main(filein,shape_grid):\n",
    "    radar = pyart.io.read_sigmet(filein)\n",
    "    radar=radar.extract_sweeps([0]) # axtract sweep 0,5\n",
    "    time_unit=radar.time['units']\n",
    "    lat_0 = radar.latitude['data'][0]\n",
    "    lon_0 = radar.longitude['data'][0]   \n",
    "    UF_File = UF(radar, shape_grid, lat_0, lon_0)\n",
    "    ref_cor_noise=UF_File.noise_rejection()\n",
    "    convert_Z_to_R=UF_File.convert_Z_to_R()\n",
    "    grid = UF_File.convert_grid()\n",
    "    grid = UF_File.convert_lat_lon(grid)\n",
    "    return grid,time_unit"
   ]
  },
  {
   "cell_type": "code",
   "execution_count": 7,
   "id": "korean-boundary",
   "metadata": {},
   "outputs": [
    {
     "name": "stdout",
     "output_type": "stream",
     "text": [
      "C:/Users/Admin/Desktop/test_py_WRADLIB/PHA210208200004.RAWMLLS\n"
     ]
    }
   ],
   "source": [
    "shape_grid=(1,601,601)\n",
    "pre_Z_R=np.zeros(shape_grid)\n",
    "interval_time=[]\n",
    "for name in os.listdir(linkRAW):\n",
    "    filein = linkRAW + name\n",
    "    grid,time_unit=main(filein,shape_grid)\n",
    "    grid_pre=grid.fields['rain_R_Z']['data'] \n",
    "    pre_Z_R=np.append(pre_Z_R,grid_pre,axis=0)\n",
    "    interval_time.append(time_unit)\n",
    "    print(filein)"
   ]
  },
  {
   "cell_type": "code",
   "execution_count": 8,
   "id": "growing-scanning",
   "metadata": {},
   "outputs": [],
   "source": [
    "times_values=[]\n",
    "for time in interval_time:\n",
    "    format_string_time = \"%Y-%m-%dT%H:%M\"\n",
    "    ti=time[14:-4]\n",
    "    format_time=datetime.strptime(ti, format_string_time)\n",
    "    times_values.append(format_time)"
   ]
  },
  {
   "cell_type": "code",
   "execution_count": 9,
   "id": "negative-volleyball",
   "metadata": {},
   "outputs": [
    {
     "data": {
      "text/plain": [
       "(1, 601, 601)"
      ]
     },
     "execution_count": 9,
     "metadata": {},
     "output_type": "execute_result"
    }
   ],
   "source": [
    "pre_Z_R=pre_Z_R[1:,:,:]\n",
    "pre_Z_R=ma.masked_equal(pre_Z_R,0)\n",
    "pre_Z_R.shape"
   ]
  },
  {
   "cell_type": "raw",
   "id": "impressive-inspection",
   "metadata": {},
   "source": [
    "Tạo file netCDF"
   ]
  },
  {
   "cell_type": "code",
   "execution_count": 10,
   "id": "eligible-pharmaceutical",
   "metadata": {},
   "outputs": [],
   "source": [
    "fileout=linkOUT+name[0:13]\n",
    "def create_nc(fileout, grid, pre_Z_R,times_values):\n",
    "    file = Dataset(fileout+ \".nc\",'w')\n",
    "    file.title = \"Netcdf radar file - Made by PYTHON\"\n",
    "    file.createDimension('longitude',601)\n",
    "    file.createDimension('latitude',601)\n",
    "    file.createDimension('time',None)\n",
    "    times = file.createVariable('time',dtype('i8').char,('time',))\n",
    "    lons = file.createVariable('longitude',dtype('f4').char,('longitude',))\n",
    "    lats = file.createVariable('latitude',dtype('f4').char,('latitude',))\n",
    "    lats.units = 'degrees_north'\n",
    "    lats.standard_name = \"Latitude\"\n",
    "    lats.long_name = \"Latitude\"\n",
    "    lats.axis = \"Y\"\n",
    "    lons.standard_name = \"Longitude\"\n",
    "    lons.long_name = \"Longitude\"\n",
    "    lons.axis = \"X\"\n",
    "    lons.units = 'degrees_east'\n",
    "    times.units = \"minutes since 0001-01-01 00:00\"\n",
    "    times.calendar = \"gregorian\"\n",
    "    times.standard_name = \"time\"\n",
    "    times.axis = \"T\"\n",
    "    lons[:] = grid.x[\"data\"]\n",
    "    lats[:] = grid.y[\"data\"]\n",
    "    times[:] =date2num(times_values,units=times.units,calendar=times.calendar)\n",
    "    ref = file.createVariable('precipitation',dtype('f4').char,('time','latitude','longitude'))\n",
    "    ref.units = 'mm'\n",
    "    ref[:] =pre_Z_R\n",
    "    file.close()"
   ]
  },
  {
   "cell_type": "code",
   "execution_count": 11,
   "id": "angry-military",
   "metadata": {},
   "outputs": [],
   "source": [
    "make_file=create_nc(fileout, grid, pre_Z_R,times_values)"
   ]
  },
  {
   "cell_type": "code",
   "execution_count": 14,
   "id": "administrative-channels",
   "metadata": {},
   "outputs": [],
   "source": [
    "data=Dataset('C:/Users/Admin/Desktop/test_py_WRADLIB/PHA2102082000.nc','r')"
   ]
  },
  {
   "cell_type": "code",
   "execution_count": 17,
   "id": "patent-oakland",
   "metadata": {},
   "outputs": [
    {
     "data": {
      "text/plain": [
       "<class 'netCDF4._netCDF4.Variable'>\n",
       "float32 precipitation(time, latitude, longitude)\n",
       "    units: mm\n",
       "unlimited dimensions: time\n",
       "current shape = (1, 601, 601)\n",
       "filling on, default _FillValue of 9.969209968386869e+36 used"
      ]
     },
     "execution_count": 17,
     "metadata": {},
     "output_type": "execute_result"
    }
   ],
   "source": [
    "data.variables['precipitation']"
   ]
  },
  {
   "cell_type": "code",
   "execution_count": null,
   "id": "amended-bulgaria",
   "metadata": {},
   "outputs": [],
   "source": []
  }
 ],
 "metadata": {
  "kernelspec": {
   "display_name": "Python 3",
   "language": "python",
   "name": "python3"
  },
  "language_info": {
   "codemirror_mode": {
    "name": "ipython",
    "version": 3
   },
   "file_extension": ".py",
   "mimetype": "text/x-python",
   "name": "python",
   "nbconvert_exporter": "python",
   "pygments_lexer": "ipython3",
   "version": "3.7.9"
  }
 },
 "nbformat": 4,
 "nbformat_minor": 5
}
