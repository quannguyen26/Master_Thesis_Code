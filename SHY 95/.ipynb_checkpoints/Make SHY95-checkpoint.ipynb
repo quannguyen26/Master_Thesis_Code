{
 "cells": [
  {
   "cell_type": "code",
   "execution_count": 49,
   "id": "nervous-spirituality",
   "metadata": {},
   "outputs": [],
   "source": [
    "import pyart\n",
    "import numpy.ma as ma\n",
    "import numpy as np\n",
    "from scipy.stats import mstats\n",
    "from statistics import mean\n",
    "import warnings\n",
    "warnings.filterwarnings('ignore')"
   ]
  },
  {
   "cell_type": "code",
   "execution_count": 50,
   "id": "subject-reward",
   "metadata": {},
   "outputs": [],
   "source": [
    "file_name=\"PHA210802204004.RAW2RBE\"\n",
    "radar = pyart.io.read_sigmet(file_name)\n",
    "lat_0 = radar.latitude['data'][0]\n",
    "lon_0 = radar.longitude['data'][0]\n",
    "shape_grid = (7, 201,201)"
   ]
  },
  {
   "cell_type": "code",
   "execution_count": 51,
   "id": "southwest-stone",
   "metadata": {},
   "outputs": [],
   "source": [
    "class UF:\n",
    "    def __init__(self,radar,shape_grid,lat_0, lon_0):\n",
    "        self.radar = radar\n",
    "        self.shape = shape_grid\n",
    "        self.lat_0 = lat_0\n",
    "        self.lon_0 = lon_0\n",
    "    def noise_rejection(self):\n",
    "        #reject noise radar\n",
    "        range_bins=self.radar.range['data']\n",
    "        ref_last_bins=self.radar.fields['reflectivity']['data'][:,-5:]\n",
    "        Z_f=mstats.mode(ref_last_bins,axis=None)[0][0]\n",
    "        Z_s=pyart.retrieve.compute_noisedBZ(1800, noisedBZ_val=Z_f, _range=range_bins, ref_dist=300., noise_field='noise_dbz')\n",
    "        Z_splus4=Z_s['data']+4\n",
    "        conditions_masked=ma.masked_less(self.radar.fields['reflectivity']['data'],Z_splus4)\n",
    "        #mask Z<0\n",
    "        self.radar.add_field_like('reflectivity', 'reflectivity_cor_noise',ma.masked_less_equal(conditions_masked,0.),replace_existing=True) \n",
    "        #self.radar.add_field_like('reflectivity', 'reflectivity_cor_noise',conditions_masked,replace_existing=True)\n",
    "    def convert_grid(self):\n",
    "        grid = pyart.map.grid_from_radars(\n",
    "            self.radar,\n",
    "            grid_shape=self.shape, #Number of points in the grid (z, y, x)\n",
    "            grid_limits=((0, 9000), (-200000, 200000), (-200000, 200000)), # min-max tuong duong z,y,x\n",
    "            grid_origin = (self.lat_0, self.lon_0),\n",
    "            fields=['reflectivity_cor_noise'],\n",
    "            roi_func='dist_beam',\n",
    "            weighting_function='cressman')\n",
    "        return grid\n",
    "    def convert_lat_lon(self, grid):\n",
    "        #conver distance to lat/lon\n",
    "        for i in range(self.shape[1]):\n",
    "            geog = pyart.core.cartesian_to_geographic_aeqd(grid.x[\"data\"][i],grid.y[\"data\"][i],self.lon_0, self.lat_0, R=6370997.0)\n",
    "            grid.x[\"data\"][i] = geog[0]\n",
    "            grid.y[\"data\"][i] = geog[1]\n",
    "        return grid"
   ]
  },
  {
   "cell_type": "code",
   "execution_count": 52,
   "id": "serious-checkout",
   "metadata": {},
   "outputs": [],
   "source": [
    "UF_File = UF(radar, shape_grid, lat_0, lon_0)\n",
    "ref_cor_noise=UF_File.noise_rejection()\n",
    "grid = UF_File.convert_grid()\n",
    "grid_lat_lon = UF_File.convert_lat_lon(grid)"
   ]
  },
  {
   "cell_type": "markdown",
   "id": "expanded-fancy",
   "metadata": {},
   "source": [
    "# SHY95"
   ]
  },
  {
   "cell_type": "markdown",
   "id": "internal-clone",
   "metadata": {},
   "source": [
    "# Short test"
   ]
  },
  {
   "cell_type": "code",
   "execution_count": 76,
   "id": "junior-services",
   "metadata": {},
   "outputs": [],
   "source": [
    "YH95=np.zeros((5,5))"
   ]
  },
  {
   "cell_type": "code",
   "execution_count": 77,
   "id": "biblical-highlight",
   "metadata": {},
   "outputs": [],
   "source": [
    "lon=grid.x['data'][98:103]\n",
    "lat=grid.y['data'][98:103]\n",
    "lons,lats=np.meshgrid(lon,lat)"
   ]
  },
  {
   "cell_type": "code",
   "execution_count": 78,
   "id": "structural-county",
   "metadata": {},
   "outputs": [],
   "source": [
    "Zh=np.array([[5, 13, 3, 24, 4],\n",
    "            [3, 3, 24, 4, 4],\n",
    "            [5, 3, 30, 3, 13],\n",
    "            [23, 3, 24, 10, 4],\n",
    "            [5, 3, 4, 3, 3]])"
   ]
  },
  {
   "cell_type": "code",
   "execution_count": 79,
   "id": "maritime-removal",
   "metadata": {},
   "outputs": [
    {
     "name": "stdout",
     "output_type": "stream",
     "text": [
      "[[0. 0. 0. 0. 0.]\n",
      " [0. 0. 0. 0. 0.]\n",
      " [0. 0. 1. 0. 0.]\n",
      " [0. 0. 0. 0. 0.]\n",
      " [0. 0. 0. 0. 0.]]\n",
      "[[False False False False False]\n",
      " [False False False False False]\n",
      " [False False  True False False]\n",
      " [False False False False False]\n",
      " [False False False False False]]\n"
     ]
    }
   ],
   "source": [
    "#Step 1\n",
    "mask_st1=(Zh>=30)\n",
    "YH95[mask_st1]=1\n",
    "print(YH95)\n",
    "print(mask_st1)"
   ]
  },
  {
   "cell_type": "code",
   "execution_count": 80,
   "id": "centered-system",
   "metadata": {},
   "outputs": [
    {
     "name": "stdout",
     "output_type": "stream",
     "text": [
      "9.25\n",
      "[[0. 0. 0. 0. 0.]\n",
      " [0. 0. 2. 0. 0.]\n",
      " [0. 2. 2. 2. 0.]\n",
      " [0. 0. 2. 0. 0.]\n",
      " [0. 0. 0. 0. 0.]]\n"
     ]
    }
   ],
   "source": [
    "#Step 2 & 3\n",
    "def MBG(xo,yo,n,r,Zh): #Mean Background Reflectivity\n",
    "    y,x = np.ogrid[-xo:n-xo, -yo:n-yo]\n",
    "    mask = x*x + y*y <= r*r\n",
    "    Zh_none_O=Zh[xo,yo]\n",
    "    Zbg = np.ma.masked_array(Zh[mask], Zh[mask] ==Zh_none_O )\n",
    "    return Zbg\n",
    "\n",
    "def MBG_mask_r(xo,yo,n,r): # mask array with r change\n",
    "    y,x = np.ogrid[-xo:n-xo, -yo:n-yo]\n",
    "    mask = x*x + y*y <= r*r\n",
    "    return mask\n",
    "\n",
    "for xo in range (0,5,1):\n",
    "    for yo in range (0,5,1):\n",
    "        if YH95[xo,yo]==1:\n",
    "            Zbg=MBG(xo,yo,5,1.5,Zh).mean()\n",
    "            if Zbg<10:\n",
    "                print(Zbg)\n",
    "                mask_st2=MBG_mask_r(xo,yo,5,r=1)\n",
    "                YH95[mask_st2]=2\n",
    "print(YH95)                "
   ]
  },
  {
   "cell_type": "code",
   "execution_count": 81,
   "id": "through-visitor",
   "metadata": {},
   "outputs": [
    {
     "name": "stdout",
     "output_type": "stream",
     "text": [
      "[[0. 0. 0. 0. 0.]\n",
      " [0. 0. 2. 0. 0.]\n",
      " [0. 2. 2. 2. 0.]\n",
      " [0. 0. 2. 0. 0.]\n",
      " [0. 0. 0. 0. 0.]]\n"
     ]
    }
   ],
   "source": [
    "print(YH95)"
   ]
  },
  {
   "cell_type": "code",
   "execution_count": 11,
   "id": "familiar-blocking",
   "metadata": {},
   "outputs": [],
   "source": [
    "for q in range (0,5,1):\n",
    "    for l in range (0,5,1):\n",
    "        if Zh[q,l]>0 and YH95[q,l] !=2:\n",
    "            YH95[q,l]=1"
   ]
  },
  {
   "cell_type": "code",
   "execution_count": 12,
   "id": "meaningful-device",
   "metadata": {},
   "outputs": [
    {
     "data": {
      "text/plain": [
       "array([[1., 1., 1., 1., 1.],\n",
       "       [1., 1., 2., 1., 1.],\n",
       "       [1., 2., 2., 2., 1.],\n",
       "       [2., 1., 2., 1., 2.],\n",
       "       [2., 2., 1., 2., 2.]])"
      ]
     },
     "execution_count": 12,
     "metadata": {},
     "output_type": "execute_result"
    }
   ],
   "source": [
    "YH95"
   ]
  },
  {
   "cell_type": "code",
   "execution_count": null,
   "id": "plastic-nelson",
   "metadata": {},
   "outputs": [],
   "source": []
  }
 ],
 "metadata": {
  "kernelspec": {
   "display_name": "Python 3",
   "language": "python",
   "name": "python3"
  },
  "language_info": {
   "codemirror_mode": {
    "name": "ipython",
    "version": 3
   },
   "file_extension": ".py",
   "mimetype": "text/x-python",
   "name": "python",
   "nbconvert_exporter": "python",
   "pygments_lexer": "ipython3",
   "version": "3.7.9"
  }
 },
 "nbformat": 4,
 "nbformat_minor": 5
}
